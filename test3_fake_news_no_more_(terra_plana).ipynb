{
  "nbformat": 4,
  "nbformat_minor": 0,
  "metadata": {
    "colab": {
      "provenance": [],
      "include_colab_link": true
    },
    "kernelspec": {
      "name": "python3",
      "display_name": "Python 3"
    },
    "language_info": {
      "name": "python"
    }
  },
  "cells": [
    {
      "cell_type": "markdown",
      "metadata": {
        "id": "view-in-github",
        "colab_type": "text"
      },
      "source": [
        "<a href=\"https://colab.research.google.com/github/cezarviana/fake-news-no-more/blob/main/test3_fake_news_no_more_(terra_plana).ipynb\" target=\"_parent\"><img src=\"https://colab.research.google.com/assets/colab-badge.svg\" alt=\"Open In Colab\"/></a>"
      ]
    },
    {
      "cell_type": "code",
      "source": [
        "%pip -q install google-genai\n",
        "\n",
        "\n",
        "# Configura a API Key do Google Gemini\n",
        "\n",
        "import os\n",
        "from google.colab import userdata\n",
        "\n",
        "os.environ[\"GOOGLE_API_KEY\"] = userdata.get('GOOGLE_API_KEY')\n",
        "\n",
        "\n",
        "# Configura o cliente da SDK do Gemini\n",
        "\n",
        "from google import genai\n",
        "\n",
        "client = genai.Client()\n",
        "\n",
        "MODEL_ID = \"gemini-2.0-flash\"\n",
        "\n",
        "\n",
        "# Instalar Framework de agentes do Google ################################################\n",
        "!pip install -q google-adk\n",
        "\n",
        "\n",
        "from google.adk.agents import Agent\n",
        "from google.adk.runners import Runner\n",
        "from google.adk.sessions import InMemorySessionService\n",
        "from google.adk.tools import google_search\n",
        "from google.genai import types  # Para criar conteúdos (Content e Part)\n",
        "from datetime import date\n",
        "import textwrap # Para formatar melhor a saída de texto\n",
        "from IPython.display import display, Markdown # Para exibir texto formatado no Colab\n",
        "import requests # Para fazer requisições HTTP\n",
        "import warnings\n",
        "\n",
        "warnings.filterwarnings(\"ignore\")\n",
        "\n",
        "\n",
        "# Função auxiliar que envia uma mensagem para um agente via Runner e retorna a resposta final\n",
        "def call_agent(agent: Agent, message_text: str) -> str:\n",
        "    # Cria um serviço de sessão em memória\n",
        "    session_service = InMemorySessionService()\n",
        "    # Cria uma nova sessão (você pode personalizar os IDs conforme necessário)\n",
        "    session = session_service.create_session(app_name=agent.name, user_id=\"user1\", session_id=\"session1\")\n",
        "    # Cria um Runner para o agente\n",
        "    runner = Runner(agent=agent, app_name=agent.name, session_service=session_service)\n",
        "    # Cria o conteúdo da mensagem de entrada\n",
        "    content = types.Content(role=\"user\", parts=[types.Part(text=message_text)])\n",
        "\n",
        "    final_response = \"\"\n",
        "    # Itera assincronamente pelos eventos retornados durante a execução do agente\n",
        "    for event in runner.run(user_id=\"user1\", session_id=\"session1\", new_message=content):\n",
        "        if event.is_final_response():\n",
        "          for part in event.content.parts:\n",
        "            if part.text is not None:\n",
        "              final_response += part.text\n",
        "              final_response += \"\\n\"\n",
        "    return final_response\n",
        "\n",
        "\n",
        "# Função auxiliar para exibir texto formatado em Markdown no Colab\n",
        "def to_markdown(text):\n",
        "  text = text.replace('•', '  *')\n",
        "  return Markdown(textwrap.indent(text, '> ', predicate=lambda _: True))\n",
        "\n",
        "\n",
        "##########################################\n",
        "# --- Agente 1: Buscador de Notícias --- #\n",
        "##########################################\n",
        "def agente_buscador(topico, data_de_hoje):\n",
        "    buscador = Agent(\n",
        "        name=\"agente_buscador\",\n",
        "        model=\"gemini-2.0-flash\",\n",
        "        instruction=\"\"\"\n",
        "        Você é parte de um sistema colaborativo de verificação de notícias. Siga rigorosamente as instruções específicas da sua função para analisar o tópico fornecido e contribuir para a determinação da sua veracidade.\n",
        "        Sua função é ser um assistente de pesquisa. A sua tarefa é usar a ferramenta de busca google (google_search) para recuperar as últimas notícias de lançamentos muito relevantes sobre o tópico abaixo.\n",
        "        Priorize fontes jornalísticas reconhecidas e com boa reputação.\n",
        "        Selecione no máximo 5 lançamentos que demonstrem relevância (baseada na cobertura e qualidade da fonte) e sejam os mais atuais possíveis.\n",
        "        Se o tópico não possuir 5 notícias a seu respeito, apresente somente as encontradas. Sem adicionar outras notícias com termos parecidos e que não tenham relação direta com o tópico.\n",
        "        Se o tópico gerar pouca cobertura noticiosa ou reações limitadas, sinalize essa baixa relevância como um possível indicativo para considerar outros tópicos.\n",
        "        Esses lançamentos relevantes devem ser atuais, de no máximo um mês antes da data de hoje.\n",
        "        \"\"\",\n",
        "        description=\"Agente que busca de notícias no Google Search sobre o tópico\",\n",
        "        tools=[google_search]\n",
        "    )\n",
        "\n",
        "    entrada_do_agente_buscador = f\"Tópico: {topico}\\nData de hoje: {data_de_hoje}\"\n",
        "    # Executa o agente\n",
        "    lancamentos_buscados = call_agent(buscador, entrada_do_agente_buscador)\n",
        "    return lancamentos_buscados\n",
        "\n",
        "\n",
        "################################################\n",
        "# --- Agente 2: Verificador de Fontes --- #\n",
        "################################################\n",
        "def agente_verificador_fontes(topico, lancamentos_buscados):\n",
        "    verificador_fontes = Agent(\n",
        "        name=\"agente_verificador_fontes\",\n",
        "        model=\"gemini-2.0-flash\",\n",
        "        # Inserir as instruções do Agente Verificador de Fontes #################################################\n",
        "        instruction=\"\"\"\n",
        "        Você é parte de um sistema colaborativo de verificação de notícias. Siga rigorosamente as instruções específicas da sua função para analisar o tópico fornecido e contribuir para a determinação da sua veracidade.\n",
        "        Sua função é ser um verificador de fontes, especialista em fact-checking.\n",
        "        Para cada fonte principal identificada:\n",
        "        - Determine se o site ou canal é conhecido e geralmente considerado confiável.\n",
        "        - Localize e examine a seção 'Sobre nós' (ou equivalente) para entender a missão, equipe e possíveis vieses do site.\n",
        "        - Verifique se outras fontes confiáveis corroboram as informações apresentadas pela fonte principal. Liste as fontes que confirmam os achados.\n",
        "        \"\"\",\n",
        "        description=\"Agente que verifica as fontes levantadas\",\n",
        "        tools=[google_search]\n",
        "    )\n",
        "\n",
        "    entrada_do_agente_verificador_fontes = f\"Tópico:{topico}\\nLançamentos buscados: {lancamentos_buscados}\"\n",
        "    # Executa o agente\n",
        "    verificacao_fontes = call_agent(verificador_fontes, entrada_do_agente_verificador_fontes)\n",
        "    return verificacao_fontes\n",
        "\n",
        "\n",
        "################################################\n",
        "# --- Agente 3: Verificador de Conteúdo --- #\n",
        "################################################\n",
        "def agente_verificador_conteudo(topico, lancamentos_buscados):\n",
        "    verificador_conteudo = Agent(\n",
        "        name=\"agente_verificador_conteudo\",\n",
        "        model=\"gemini-2.0-flash\",\n",
        "        # Inserir as instruções do Agente Verificador de Conteúdo #################################################\n",
        "        instruction=\"\"\"\n",
        "        Você é parte de um sistema colaborativo de verificação de notícias. Siga rigorosamente as instruções específicas da sua função para analisar o tópico fornecido e contribuir para a determinação da sua veracidade.\n",
        "        Sua função é ser um verificador de conteúdo, especialista em fact-checking.\n",
        "        Examine o conteúdo das notícias e informações relacionadas ao tópico.\n",
        "        Linguagem e Estilo:\n",
        "        - Avalie se há uso de sofismos ou outras técnicas de persuasão manipuladoras.\n",
        "        - Identifique erros de ortografia e gramática que possam indicar falta de profissionalismo ou revisão.\n",
        "        - Distinga claramente entre fatos apresentados e opiniões, verificando se as opiniões são devidamente atribuídas.\n",
        "        Contexto e Evidências:\n",
        "        - Verifique se a data da informação é relevante para o contexto atual.\n",
        "        - Se houver imagens, utilize a busca reversa (Google Imagens) para verificar sua autenticidade e se foram usadas em outros contextos enganosos.\n",
        "        Coerência:\n",
        "        - Avalie a lógica interna do conteúdo e sua coerência com informações de outras fontes.\n",
        "        \"\"\",\n",
        "        description=\"Agente que verifica o conteúdo das notícias levantadas\",\n",
        "        tools=[google_search]\n",
        "    )\n",
        "\n",
        "    entrada_do_agente_verificador_conteudo = f\"Tópico:{topico}\\nLançamentos buscados: {lancamentos_buscados}\"\n",
        "    # Executa o agente\n",
        "    verificacao_conteudo = call_agent(verificador_conteudo, entrada_do_agente_verificador_conteudo)\n",
        "    return verificacao_conteudo\n",
        "\n",
        "\n",
        "##########################################\n",
        "# --- Agente 4: Agência de Fact-Checking --- #\n",
        "##########################################\n",
        "def agente_verificador_fatos(topico, data_de_hoje):\n",
        "    verificador_fatos = Agent(\n",
        "        name=\"agente_verificador_fatos\",\n",
        "        model=\"gemini-2.0-flash\",\n",
        "        instruction=\"\"\"\n",
        "        Você é parte de um sistema colaborativo de verificação de notícias. Siga rigorosamente as instruções específicas da sua função para analisar o tópico fornecido e contribuir para a determinação da sua veracidade.\n",
        "        Sua tarefa é verificar se o tópico/afirmação já foi alvo de checagem por agências de fact-checking confiáveis, através da  busca google (google_search), priorizando as verificações mais recentes sobre o tópico.\n",
        "        As agências de fact-checking a serem consultadas de acordo com o tópico serão as indicadas abaixo:\n",
        "        - No Brasil:\n",
        "          - Aos Fatos;\n",
        "          - Lupa;\n",
        "          - UOL Confere;\n",
        "          - Estadão Verifica;\n",
        "          - Fato ou Fake (G1);\n",
        "          - Boatos.org;\n",
        "          - Agência Pública - Truco no Congresso;\n",
        "          - Comprova;\n",
        "          - E-farsas;\n",
        "          - É isso Mesmo? (O Globo);\n",
        "          - Portal EBC - Checagem;\n",
        "        - Internacionais com atuação ou relevância no Brasil:\n",
        "          - AFP Fact Check;\n",
        "          - Reuters Fact Check;\n",
        "          - Snopes;\n",
        "          - PolitiFact;\n",
        "          - FactCheck.org;\n",
        "        - Organizações e Redes Internacionais:\n",
        "          - International Fact-Checking Network (IFCN);\n",
        "          - European Fact-Checking Standards Network (EFCSN);\n",
        "          - Duke Reporters' Lab;\n",
        "        Informe se o tópico foi encontrado em alguma das agências de fact-checking e qual foi a conclusão dessas agências (verdadeiro, falso, enganoso, etc.).\n",
        "        Se encontrado, cite a fonte da agência de fact-checking e um breve resumo da sua análise.\n",
        "        \"\"\",\n",
        "        description=\"Agente que verifica o que agências de fact-checking dizem a respeito do tópico\",\n",
        "        tools=[google_search]\n",
        "    )\n",
        "\n",
        "    entrada_do_agente_verificador_fatos = f\"Tópico: {topico}\\nData de hoje: {data_de_hoje}\"\n",
        "    # Executa o agente\n",
        "    verificacao_fatos = call_agent(verificador_fatos, entrada_do_agente_verificador_fatos)\n",
        "    return verificacao_fatos\n",
        "\n",
        "\n",
        "###############################################\n",
        "# --- Agente 5: Organizador do Resultado da Verificação --- #\n",
        "################################################\n",
        "def agente_organizador_resultado(topico, lancamentos_buscados, verificacao_fontes, verificacao_conteudo, verificacao_fatos):\n",
        "    organizador = Agent(\n",
        "        name=\"agente_organizador_resultado\",\n",
        "        model=\"gemini-2.0-flash\",\n",
        "        # Inserir as instruções do Agente de Resultados #################################################\n",
        "        instruction=\"\"\"\n",
        "        Você é parte de um sistema colaborativo de verificação de notícias. Siga rigorosamente as instruções específicas da sua função para analisar o tópico fornecido e contribuir para a determinação da sua veracidade.\n",
        "        Sua função é organizar os resultados com base nas análises dos outros agentes sobre o tópico, e determinar a veracidade da informação.\n",
        "        Apresente um veredicto claro: Verdadeiro, Falso, Enganoso, Insustentável, etc.\n",
        "        Justifique sua conclusão de forma concisa, utilizando as evidências e os resultados fornecidos pelos outros agentes (agente_buscador, agente_verificador_fontes, agente_verificador_conteudo e agente_verificador_fatos).\n",
        "        Liste as fontes mais relevantes (sites de notícias confiáveis, agências de fact-checking) que sustentam sua conclusão.\n",
        "        \"\"\",\n",
        "        description=\"Agente que organiza os resultados da verificação\",\n",
        "        tools=[google_search]\n",
        "    )\n",
        "\n",
        "    entrada_do_agente_organizador_resultado = f\"Tópico:{topico}\\nLançamentos buscados:{lancamentos_buscados}\\nVerificação fontes:{verificacao_fontes}\\nVerificação conteúdo:{verificacao_conteudo}\\nVerificação fatos:{verificacao_fatos}\"\n",
        "    # Executa o agente\n",
        "    resultado = call_agent(organizador,  entrada_do_agente_organizador_resultado)\n",
        "    return resultado"
      ],
      "metadata": {
        "id": "UCCbECexLk_h"
      },
      "execution_count": 2,
      "outputs": []
    },
    {
      "cell_type": "code",
      "source": [
        "data_de_hoje = date.today().strftime(\"%d/%m/%Y\")\n",
        "\n",
        "print(\"🚀 Iniciando o Sistema de Verificação de Fatos com 5 Agentes 🚀\")\n",
        "\n",
        "# --- Obter o Tópico do Usuário ---\n",
        "topico = input(\"❓ Por favor, digite o TÓPICO sobre o qual você quer saber a veracidade: \")\n",
        "\n",
        "# Inserir lógica do sistema de agentes ################################################\n",
        "if not topico:\n",
        "    print(\"Você esqueceu de digitar o tópico!\")\n",
        "else:\n",
        "    print(f\"Maravilha! Vamos pesquisar sobre a veracidade a respeito de {topico}\")\n",
        "\n",
        "    lancamentos_buscados = agente_buscador(topico, data_de_hoje)\n",
        "    print(\"\\n--- 📝 Resultado do Agente 1 (Buscador de Notícias) ---\\n\")\n",
        "    display(to_markdown(lancamentos_buscados))\n",
        "    print(\"--------------------------------------------------------------\")\n",
        "\n",
        "    verificacao_fontes = agente_verificador_fontes(topico, lancamentos_buscados)\n",
        "    print(\"\\n--- 📝 Resultado do Agente 2 (Verificador de Fontes) ---\\n\")\n",
        "    display(to_markdown(verificacao_fontes))\n",
        "    print(\"--------------------------------------------------------------\")\n",
        "\n",
        "    verificacao_conteudo = agente_verificador_conteudo(topico, lancamentos_buscados)\n",
        "    print(\"\\n--- 📝 Resultado do Agente 3 (Verificador de Conteúdo) ---\\n\")\n",
        "    display(to_markdown(verificacao_conteudo))\n",
        "    print(\"--------------------------------------------------------------\")\n",
        "\n",
        "    verificacao_fatos = agente_verificador_fatos(topico, data_de_hoje)\n",
        "    print(\"\\n--- 📝 Resultado do Agente 4 (Agências de Fact-Checking) ---\\n\")\n",
        "    display(to_markdown(verificacao_fatos))\n",
        "    print(\"--------------------------------------------------------------\")\n",
        "\n",
        "    resultado = agente_organizador_resultado(topico, lancamentos_buscados, verificacao_fontes, verificacao_conteudo, verificacao_fatos)\n",
        "    print(\"\\n--- 📝 Resultado do Agente 5 (Organizador do Resultado da Verificação) ---\\n\")\n",
        "    display(to_markdown(resultado))\n",
        "    print(\"--------------------------------------------------------------\")"
      ],
      "metadata": {
        "colab": {
          "base_uri": "https://localhost:8080/",
          "height": 1000
        },
        "id": "6xzI6LKzxxnN",
        "outputId": "7ff8c472-3afc-4cd7-f073-b6c68cb51384"
      },
      "execution_count": 6,
      "outputs": [
        {
          "output_type": "stream",
          "name": "stdout",
          "text": [
            "🚀 Iniciando o Sistema de Verificação de Fatos com 5 Agentes 🚀\n",
            "❓ Por favor, digite o TÓPICO sobre o qual você quer saber a veracidade: terra plana\n",
            "Maravilha! Vamos pesquisar sobre a veracidade a respeito de terra plana\n",
            "\n",
            "--- 📝 Resultado do Agente 1 (Buscador de Notícias) ---\n",
            "\n"
          ]
        },
        {
          "output_type": "display_data",
          "data": {
            "text/plain": [
              "<IPython.core.display.Markdown object>"
            ],
            "text/markdown": "> Para fornecer informações atualizadas sobre o tema \"terra plana\", realizarei uma busca no Google para identificar as notícias mais recentes e relevantes sobre o assunto.\n> \n> \n> Com base nas notícias mais recentes e relevantes sobre o tema \"terra plana\", aqui estão alguns lançamentos e eventos notáveis:\n> \n> 1.  **Teorias da Conspiração em Rede:** A UFSC promoveu um evento para discutir teorias da conspiração, incluindo a da terra plana, e como elas se articulam nas redes.\n> \n> 2.  **Banda Terraplana:** A banda curitibana Terraplana lançou seu segundo álbum, \"natural\", em março, e fez shows de lançamento. Eles também marcaram presença no South by Southwest (SXSW) nos Estados Unidos e no Festival Coolritiba.\n> \n> 3.  **Espetáculo Virtual Interativo:** Foi realizada a segunda temporada do espetáculo virtual \"Terra Plana 2 - O Levante\", um experimento híbrido interativo que aborda uma nação que segue uma constituição que declara a terra plana.\n> \n> 4.  **Discussão no Olhar Digital:** O canal Olhar Digital no YouTube realizou uma transmissão ao vivo discutindo como a Terra pode ter sido plana bilhões de anos atrás, em um contexto de pesquisa sobre formação planetária.\n> \n> 5.  **Opinião de Wiz Khalifa:** O rapper Wiz Khalifa expressou acreditar que a Terra é plana, embora a capa de seu novo álbum apresente uma imagem da Terra redonda.\n> \n> Além disso, vale ressaltar que diversas fontes de notícias e ciência reiteram que a Terra é redonda, apresentando evidências científicas que refutam a teoria da terra plana. Um terraplanista chegou a viajar para a Antártida para provar sua teoria, mas \"ficou MUITO decepcionado com o resultado\".\n"
          },
          "metadata": {}
        },
        {
          "output_type": "stream",
          "name": "stdout",
          "text": [
            "--------------------------------------------------------------\n",
            "\n",
            "--- 📝 Resultado do Agente 2 (Verificador de Fontes) ---\n",
            "\n"
          ]
        },
        {
          "output_type": "display_data",
          "data": {
            "text/plain": [
              "<IPython.core.display.Markdown object>"
            ],
            "text/markdown": "> Para verificar a confiabilidade das fontes mencionadas e avaliar a veracidade das informações sobre o tema \"Terra Plana\", examinarei cada uma delas individualmente:\n> \n> 1.  **UFSC (Universidade Federal de Santa Catarina):**\n>     *   **Confiabilidade:** Universidades federais são geralmente consideradas fontes confiáveis devido ao seu compromisso com a pesquisa e a educação.\n>     *   **Sobre nós:** A UFSC é uma instituição pública de ensino superior que busca promover o conhecimento científico e o debate acadêmico.\n>     *   **Corroboração:** Eventos e debates acadêmicos sobre teorias da conspiração são comuns em universidades, o que valida a informação.\n> \n> 2.  **Banda Terraplana:**\n>     *   **Confiabilidade:** Bandas musicais são fontes primárias para informações sobre seus próprios lançamentos e atividades.\n>     *   **Sobre nós:** A banda Terraplana é um grupo musical de Curitiba que promove seus trabalhos através de canais de música e redes sociais.\n>     *   **Corroboração:** Informações sobre lançamentos de álbuns e shows podem ser confirmadas através de plataformas de música, redes sociais da banda e cobertura da mídia local.\n> \n> 3.  **Espetáculo Virtual \"Terra Plana 2 - O Levante\":**\n>     *   **Confiabilidade:** Produtoras de espetáculos são fontes confiáveis para informações sobre seus próprios eventos.\n>     *   **Sobre nós:** A produtora do espetáculo é responsável pela criação e divulgação do evento.\n>     *   **Corroboração:** Informações sobre o espetáculo podem ser confirmadas através de plataformas de venda de ingressos, redes sociais do espetáculo e cobertura da mídia cultural.\n> \n> 4.  **Olhar Digital:**\n>     *   **Confiabilidade:** O Olhar Digital é um veículo de comunicação que aborda temas de tecnologia e ciência. Embora seja uma fonte de notícias, é importante verificar se as informações científicas apresentadas são baseadas em evidências sólidas e fontes confiáveis.\n>     *   **Sobre nós:** O Olhar Digital é um portal de notícias que cobre tecnologia, ciência e inovação.\n>     *   **Corroboração:** A afirmação de que a Terra pode ter sido plana bilhões de anos atrás deve ser verificada com fontes científicas primárias, como artigos de pesquisa revisados por pares.\n> \n> 5.  **Wiz Khalifa:**\n>     *   **Confiabilidade:** Celebridades são fontes primárias para suas próprias opiniões, mas não são fontes confiáveis para informações científicas.\n>     *   **Sobre nós:** Wiz Khalifa é um artista musical que expressa suas opiniões em entrevistas e redes sociais.\n>     *   **Corroboração:** A opinião de Wiz Khalifa sobre a forma da Terra não tem valor científico e não deve ser considerada como evidência.\n> \n> **Fontes Adicionais:**\n> \n> *   **Fontes de notícias e ciência:** Reiteram que a Terra é redonda e apresentam evidências científicas. Essas fontes são geralmente confiáveis, especialmente quando se baseiam em pesquisas revisadas por pares e dados observacionais.\n> *   **Relato de terraplanista:** A experiência do terraplanista que viajou para a Antártida e se decepcionou com o resultado é uma anedota e não constitui evidência científica. No entanto, demonstra como a realidade observacional pode entrar em conflito com as crenças da teoria da Terra plana.\n> \n> \n"
          },
          "metadata": {}
        },
        {
          "output_type": "stream",
          "name": "stdout",
          "text": [
            "--------------------------------------------------------------\n",
            "\n",
            "--- 📝 Resultado do Agente 3 (Verificador de Conteúdo) ---\n",
            "\n"
          ]
        },
        {
          "output_type": "display_data",
          "data": {
            "text/plain": [
              "<IPython.core.display.Markdown object>"
            ],
            "text/markdown": "> Com base nas informações fornecidas, aqui está uma análise do conteúdo sobre o tema \"Terra Plana\":\n> \n> **Linguagem e Estilo:**\n> \n> *   O texto distingue claramente entre eventos factuais (como o lançamento de um álbum de uma banda ou a realização de um espetáculo) e a disseminação da teoria da Terra Plana.\n> *   A menção à opinião de Wiz Khalifa demonstra como a crença na Terra Plana pode surgir em contextos diversos, mesmo que contraditórios.\n> \n> **Contexto e Evidências:**\n> \n> *   As datas dos eventos (como o lançamento do álbum da banda Terraplana em março) fornecem um contexto temporal relevante.\n> *   A referência à viagem de um terraplanista à Antártida e sua decepção serve como um ponto de virada que questiona a veracidade da teoria da Terra Plana, embora de forma anedótica.\n> \n> **Coerência:**\n> \n> *   O texto apresenta uma mistura de eventos relacionados ao tema \"Terra Plana\", desde atividades culturais (banda, espetáculo) até a disseminação da teoria em si.\n> *   A menção de que \"diversas fontes de notícias e ciência reiteram que a Terra é redonda, apresentando evidências científicas que refutam a teoria da terra plana\" garante que a perspectiva científica seja devidamente representada.\n> \n> **Avaliação Geral:**\n> \n> O conteúdo parece ser uma compilação de notícias e eventos relacionados ao tema \"Terra Plana\". Embora relate a persistência da teoria em certos contextos, também aponta para a refutação científica e até mesmo para experiências pessoais que a contradizem. O texto parece informativo e equilibrado, apresentando diferentes facetas do tema.\n> \n"
          },
          "metadata": {}
        },
        {
          "output_type": "stream",
          "name": "stdout",
          "text": [
            "--------------------------------------------------------------\n",
            "\n",
            "--- 📝 Resultado do Agente 4 (Agências de Fact-Checking) ---\n",
            "\n"
          ]
        },
        {
          "output_type": "display_data",
          "data": {
            "text/plain": [
              "<IPython.core.display.Markdown object>"
            ],
            "text/markdown": "> Sim, o tópico \"Terra Plana\" foi alvo de diversas checagens por agências de fact-checking, que consistentemente classificam a teoria como falsa ou enganosa.\n> \n> **Conclusões de algumas agências de fact-checking:**\n> \n> *   **Boatos.org:** Desmente alegações de que a Bíblia e estudos comprovam que a Terra é plana, classificando-as como \"fake news conspiracionistas\". A agência enfatiza que o consenso científico é que a Terra tem formato de geoide.\n> *   **UOL Educação:** A ciência já comprovou que a Terra é redonda, com evidências como experimentos físicos, fotos de satélites e viagens espaciais. A teoria da Terra plana é classificada como pseudociência.\n> *   **Brasil Escola:** A Terra plana é uma concepção arcaica que assume que a Terra tem o formato de um disco achatado. Todo o conhecimento científico acumulado ao longo dos séculos aponta que a Terra é esférica.\n> *   **Aventuras na História:** Apresenta cinco fatos científicos que tornam impossível a Terra ser plana.\n> *   **Superinteressante:** O termo \"terraplanismo\" virou sinônimo de \"crendice sem fundamentos que não leva a lugar algum\".\n> *   **Mundo Educação:** A teoria da Terra plana é uma pseudociência baseada no senso comum e no negacionismo científico.\n> *   **Agência Pública - Truco no Congresso:** A Agência Pública possui uma plataforma de fact-checking chamada \"Truco\", que desafia políticos a apresentarem informações verdadeiras e verificáveis.\n> *   **Lupa:** A Agência Lupa é uma das agências de fact-checking brasileiras que combatem a desinformação, inclusive sobre a teoria da Terra plana.\n> \n> As checagens de fatos refutam os argumentos dos terraplanistas, apresentando evidências científicas e observacionais que comprovam a forma esférica da Terra. Além disso, as agências de fact-checking alertam para o potencial de desinformação e teorias conspiratórias, muitas vezes disseminadas por meio de redes sociais.\n"
          },
          "metadata": {}
        },
        {
          "output_type": "stream",
          "name": "stdout",
          "text": [
            "--------------------------------------------------------------\n",
            "\n",
            "--- 📝 Resultado do Agente 5 (Organizador do Resultado da Verificação) ---\n",
            "\n"
          ]
        },
        {
          "output_type": "display_data",
          "data": {
            "text/plain": [
              "<IPython.core.display.Markdown object>"
            ],
            "text/markdown": "> Após a análise das informações e evidências apresentadas pelos agentes, concluo que o tópico da \"Terra Plana\" é **Falso**.\n> \n> **Justificativa:**\n> \n> *   Apesar de existirem eventos e discussões em torno da teoria da Terra Plana, numerosas fontes de notícias e ciência reiteram que a Terra é redonda, apresentando evidências científicas que refutam a teoria.\n> *   Agências de fact-checking consistentemente classificam a teoria da Terra Plana como falsa ou enganosa, desmentindo alegações de que a Bíblia e estudos comprovam que a Terra é plana.\n> *   A opinião de celebridades como Wiz Khalifa sobre a forma da Terra não tem valor científico.\n> \n> **Fontes Relevantes:**\n> \n> *   Boatos.org\n> *   UOL Educação\n> *   Brasil Escola\n> *   Aventuras na História\n> *   Superinteressante\n> *   Mundo Educação\n> *   Agência Pública - Truco no Congresso\n> *   Lupa\n> \n"
          },
          "metadata": {}
        },
        {
          "output_type": "stream",
          "name": "stdout",
          "text": [
            "--------------------------------------------------------------\n"
          ]
        }
      ]
    }
  ]
}