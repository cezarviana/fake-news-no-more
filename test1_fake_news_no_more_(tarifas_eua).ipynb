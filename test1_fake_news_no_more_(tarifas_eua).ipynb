{
  "nbformat": 4,
  "nbformat_minor": 0,
  "metadata": {
    "colab": {
      "provenance": [],
      "include_colab_link": true
    },
    "kernelspec": {
      "name": "python3",
      "display_name": "Python 3"
    },
    "language_info": {
      "name": "python"
    }
  },
  "cells": [
    {
      "cell_type": "markdown",
      "metadata": {
        "id": "view-in-github",
        "colab_type": "text"
      },
      "source": [
        "<a href=\"https://colab.research.google.com/github/cezarviana/fake-news-no-more/blob/main/test1_fake_news_no_more_(tarifas_eua).ipynb\" target=\"_parent\"><img src=\"https://colab.research.google.com/assets/colab-badge.svg\" alt=\"Open In Colab\"/></a>"
      ]
    },
    {
      "cell_type": "code",
      "source": [
        "%pip -q install google-genai\n",
        "\n",
        "\n",
        "# Configura a API Key do Google Gemini\n",
        "\n",
        "import os\n",
        "from google.colab import userdata\n",
        "\n",
        "os.environ[\"GOOGLE_API_KEY\"] = userdata.get('GOOGLE_API_KEY')\n",
        "\n",
        "\n",
        "# Configura o cliente da SDK do Gemini\n",
        "\n",
        "from google import genai\n",
        "\n",
        "client = genai.Client()\n",
        "\n",
        "MODEL_ID = \"gemini-2.0-flash\"\n",
        "\n",
        "\n",
        "# Instalar Framework de agentes do Google ################################################\n",
        "!pip install -q google-adk\n",
        "\n",
        "\n",
        "from google.adk.agents import Agent\n",
        "from google.adk.runners import Runner\n",
        "from google.adk.sessions import InMemorySessionService\n",
        "from google.adk.tools import google_search\n",
        "from google.genai import types  # Para criar conteúdos (Content e Part)\n",
        "from datetime import date\n",
        "import textwrap # Para formatar melhor a saída de texto\n",
        "from IPython.display import display, Markdown # Para exibir texto formatado no Colab\n",
        "import requests # Para fazer requisições HTTP\n",
        "import warnings\n",
        "\n",
        "warnings.filterwarnings(\"ignore\")\n",
        "\n",
        "\n",
        "# Função auxiliar que envia uma mensagem para um agente via Runner e retorna a resposta final\n",
        "def call_agent(agent: Agent, message_text: str) -> str:\n",
        "    # Cria um serviço de sessão em memória\n",
        "    session_service = InMemorySessionService()\n",
        "    # Cria uma nova sessão (você pode personalizar os IDs conforme necessário)\n",
        "    session = session_service.create_session(app_name=agent.name, user_id=\"user1\", session_id=\"session1\")\n",
        "    # Cria um Runner para o agente\n",
        "    runner = Runner(agent=agent, app_name=agent.name, session_service=session_service)\n",
        "    # Cria o conteúdo da mensagem de entrada\n",
        "    content = types.Content(role=\"user\", parts=[types.Part(text=message_text)])\n",
        "\n",
        "    final_response = \"\"\n",
        "    # Itera assincronamente pelos eventos retornados durante a execução do agente\n",
        "    for event in runner.run(user_id=\"user1\", session_id=\"session1\", new_message=content):\n",
        "        if event.is_final_response():\n",
        "          for part in event.content.parts:\n",
        "            if part.text is not None:\n",
        "              final_response += part.text\n",
        "              final_response += \"\\n\"\n",
        "    return final_response\n",
        "\n",
        "\n",
        "# Função auxiliar para exibir texto formatado em Markdown no Colab\n",
        "def to_markdown(text):\n",
        "  text = text.replace('•', '  *')\n",
        "  return Markdown(textwrap.indent(text, '> ', predicate=lambda _: True))\n",
        "\n",
        "\n",
        "##########################################\n",
        "# --- Agente 1: Buscador de Notícias --- #\n",
        "##########################################\n",
        "def agente_buscador(topico, data_de_hoje):\n",
        "    buscador = Agent(\n",
        "        name=\"agente_buscador\",\n",
        "        model=\"gemini-2.0-flash\",\n",
        "        instruction=\"\"\"\n",
        "        Você é parte de um sistema colaborativo de verificação de notícias. Siga rigorosamente as instruções específicas da sua função para analisar o tópico fornecido e contribuir para a determinação da sua veracidade.\n",
        "        Sua função é ser um assistente de pesquisa. A sua tarefa é usar a ferramenta de busca google (google_search) para recuperar as últimas notícias de lançamentos muito relevantes sobre o tópico abaixo.\n",
        "        Priorize fontes jornalísticas reconhecidas e com boa reputação.\n",
        "        Selecione no máximo 5 lançamentos que demonstrem relevância (baseada na cobertura e qualidade da fonte) e sejam os mais atuais possíveis, desde que sejam fontes jornalísticas reconhecidas e com boa reputação.\n",
        "        Para cada lançamento relevante, forneça o título, um breve resumo e o **link direto para a notícia**.\n",
        "        Se o tópico não possuir 5 notícias a seu respeito, apresente somente as encontradas. Sem adicionar outras notícias com termos parecidos e que não tenham relação direta com o tópico.\n",
        "        Se o tópico gerar pouca cobertura noticiosa ou reações limitadas, sinalize essa baixa relevância como um possível indicativo para considerar outros tópicos.\n",
        "        Esses lançamentos relevantes devem ser atuais, de no máximo um mês antes da data de hoje.\n",
        "        \"\"\",\n",
        "        description=\"Agente que busca de notícias no Google Search sobre o tópico\",\n",
        "        tools=[google_search]\n",
        "    )\n",
        "\n",
        "    entrada_do_agente_buscador = f\"Tópico: {topico}\\nData de hoje: {data_de_hoje}\"\n",
        "    # Executa o agente\n",
        "    lancamentos_buscados = call_agent(buscador, entrada_do_agente_buscador)\n",
        "    return lancamentos_buscados\n",
        "\n",
        "\n",
        "################################################\n",
        "# --- Agente 2: Verificador de Fontes --- #\n",
        "################################################\n",
        "def agente_verificador_fontes(topico, lancamentos_buscados):\n",
        "    verificador_fontes = Agent(\n",
        "        name=\"agente_verificador_fontes\",\n",
        "        model=\"gemini-2.0-flash\",\n",
        "        # Inserir as instruções do Agente Verificador de Fontes #################################################\n",
        "        instruction=\"\"\"\n",
        "        Você é parte de um sistema colaborativo de verificação de notícias. Siga rigorosamente as instruções específicas da sua função para analisar o tópico fornecido e contribuir para a determinação da sua veracidade.\n",
        "        Sua função é ser um verificador de fontes, especialista em fact-checking.\n",
        "        Para cada fonte principal identificada:\n",
        "        - Determine se o site ou canal é conhecido e geralmente considerado confiável.\n",
        "        - Localize e examine a seção 'Sobre nós' (ou equivalente) para entender a missão, equipe e possíveis vieses do site.\n",
        "        - Verifique se outras fontes confiáveis corroboram as informações apresentadas pela fonte principal. Liste as fontes que confirmam os achados.\n",
        "        \"\"\",\n",
        "        description=\"Agente que verifica as fontes levantadas\",\n",
        "        tools=[google_search]\n",
        "    )\n",
        "\n",
        "    entrada_do_agente_verificador_fontes = f\"Tópico:{topico}\\nLançamentos buscados: {lancamentos_buscados}\"\n",
        "    # Executa o agente\n",
        "    verificacao_fontes = call_agent(verificador_fontes, entrada_do_agente_verificador_fontes)\n",
        "    return verificacao_fontes\n",
        "\n",
        "\n",
        "################################################\n",
        "# --- Agente 3: Verificador de Conteúdo --- #\n",
        "################################################\n",
        "def agente_verificador_conteudo(topico, lancamentos_buscados):\n",
        "    verificador_conteudo = Agent(\n",
        "        name=\"agente_verificador_conteudo\",\n",
        "        model=\"gemini-2.0-flash\",\n",
        "        # Inserir as instruções do Agente Verificador de Conteúdo #################################################\n",
        "        instruction=\"\"\"\n",
        "        Você é parte de um sistema colaborativo de verificação de notícias. Siga rigorosamente as instruções específicas da sua função para analisar o tópico fornecido e contribuir para a determinação da sua veracidade.\n",
        "        Sua função é ser um verificador de conteúdo, especialista em fact-checking.\n",
        "        Examine o conteúdo das notícias e informações relacionadas ao tópico.\n",
        "        Linguagem e Estilo:\n",
        "        - Avalie se há uso de sofismos ou outras técnicas de persuasão manipuladoras.\n",
        "        - Identifique erros de ortografia e gramática que possam indicar falta de profissionalismo ou revisão.\n",
        "        - Distinga claramente entre fatos apresentados e opiniões, verificando se as opiniões são devidamente atribuídas.\n",
        "        Contexto e Evidências:\n",
        "        - Verifique se a data da informação é relevante para o contexto atual.\n",
        "        - Se houver imagens, utilize a busca reversa (Google Imagens) para verificar sua autenticidade e se foram usadas em outros contextos enganosos.\n",
        "        Coerência:\n",
        "        - Avalie a lógica interna do conteúdo e sua coerência com informações de outras fontes.\n",
        "        \"\"\",\n",
        "        description=\"Agente que verifica o conteúdo das notícias levantadas\",\n",
        "        tools=[google_search]\n",
        "    )\n",
        "\n",
        "    entrada_do_agente_verificador_conteudo = f\"Tópico:{topico}\\nLançamentos buscados: {lancamentos_buscados}\"\n",
        "    # Executa o agente\n",
        "    verificacao_conteudo = call_agent(verificador_conteudo, entrada_do_agente_verificador_conteudo)\n",
        "    return verificacao_conteudo\n",
        "\n",
        "\n",
        "##########################################\n",
        "# --- Agente 4: Agência de Fact-Checking --- #\n",
        "##########################################\n",
        "def agente_verificador_fatos(topico, data_de_hoje):\n",
        "    verificador_fatos = Agent(\n",
        "        name=\"agente_verificador_fatos\",\n",
        "        model=\"gemini-2.0-flash\",\n",
        "        instruction=\"\"\"\n",
        "        Você é parte de um sistema colaborativo de verificação de notícias. Siga rigorosamente as instruções específicas da sua função para analisar o tópico fornecido e contribuir para a determinação da sua veracidade.\n",
        "        Sua tarefa é verificar se o tópico/afirmação já foi alvo de checagem por agências de fact-checking confiáveis, através da  busca google (google_search), priorizando as verificações mais recentes sobre o tópico.\n",
        "        As agências de fact-checking a serem consultadas de acordo com o tópico serão as indicadas abaixo:\n",
        "        - No Brasil:\n",
        "          - Aos Fatos;\n",
        "          - Lupa;\n",
        "          - UOL Confere;\n",
        "          - Estadão Verifica;\n",
        "          - Fato ou Fake (G1);\n",
        "          - Boatos.org;\n",
        "          - Agência Pública - Truco no Congresso;\n",
        "          - Comprova;\n",
        "          - E-farsas;\n",
        "          - É isso Mesmo? (O Globo);\n",
        "          - Portal EBC - Checagem;\n",
        "        - Internacionais com atuação ou relevância no Brasil:\n",
        "          - AFP Fact Check;\n",
        "          - Reuters Fact Check;\n",
        "          - Snopes;\n",
        "          - PolitiFact;\n",
        "          - FactCheck.org;\n",
        "        - Organizações e Redes Internacionais:\n",
        "          - International Fact-Checking Network (IFCN);\n",
        "          - European Fact-Checking Standards Network (EFCSN);\n",
        "          - Duke Reporters' Lab;\n",
        "        Informe se o tópico foi encontrado em alguma das agências de fact-checking e qual foi a conclusão dessas agências (verdadeiro, falso, enganoso, etc.).\n",
        "        Se encontrado, cite a fonte da agência de fact-checking e um breve resumo da sua análise.\n",
        "        \"\"\",\n",
        "        description=\"Agente que verifica o que agências de fact-checking dizem a respeito do tópico\",\n",
        "        tools=[google_search]\n",
        "    )\n",
        "\n",
        "    entrada_do_agente_verificador_fatos = f\"Tópico: {topico}\\nData de hoje: {data_de_hoje}\"\n",
        "    # Executa o agente\n",
        "    verificacao_fatos = call_agent(verificador_fatos, entrada_do_agente_verificador_fatos)\n",
        "    return verificacao_fatos\n",
        "\n",
        "\n",
        "###############################################\n",
        "# --- Agente 5: Organizador do Resultado da Verificação --- #\n",
        "################################################\n",
        "def agente_organizador_resultado(topico, lancamentos_buscados, verificacao_fontes, verificacao_conteudo, verificacao_fatos):\n",
        "    organizador = Agent(\n",
        "        name=\"agente_organizador_resultado\",\n",
        "        model=\"gemini-2.0-flash\",\n",
        "        # Inserir as instruções do Agente de Resultados #################################################\n",
        "        instruction=\"\"\"\n",
        "        Você é parte de um sistema colaborativo de verificação de notícias. Siga rigorosamente as instruções específicas da sua função para analisar o tópico fornecido e contribuir para a determinação da sua veracidade.\n",
        "        Sua função é organizar os resultados com base nas análises dos outros agentes sobre o tópico, e determinar a veracidade da informação.\n",
        "        Apresente um veredicto claro: Verdadeiro, Falso, Enganoso, Insustentável, etc.\n",
        "        Justifique sua conclusão de forma concisa, utilizando as evidências e os resultados fornecidos pelos outros agentes (agente_buscador, agente_verificador_fontes, agente_verificador_conteudo e agente_verificador_fatos).\n",
        "        Preste atenção aos lançamentos buscados e inclua os **links das fontes relevantes** no resultado final, se disponíveis.\n",
        "        Inclua os **links das fontes relevantes formatados em Markdown ([Fonte - Texto do Link](URL do Link))** no resultado final, se disponíveis.\n",
        "        Liste as fontes mais relevantes (sites de notícias confiáveis, agências de fact-checking) que sustentam sua conclusão.\n",
        "\n",
        "        Padrão de Resultado:\n",
        "        - Escrever um resumo da verifição do tópico neste ponto.\n",
        "        - Parecer: VERDADEIRO, FALSO, ENGANOSO, INSUSTENTÁVEL, etc.\n",
        "        - Justificativas:\n",
        "          - Justificativa 1.\n",
        "          - Justificativa 2.\n",
        "          - Justificativa 3.\n",
        "          - Justificativa n.\n",
        "        - Fontes relevantes:\n",
        "          - ([Fonte 1 - Texto do Link da Fonte 1](URL do Link da Fonte 1)).\n",
        "          - ([Fonte 2 - Texto do Link da Fonte 2](URL do Link da Fonte 2)).\n",
        "          - ([Fonte 3 - Texto do Link da Fonte 3](URL do Link da Fonte 3)).\n",
        "          - ([Fonte n - Texto do Link da Fonte n](URL do Link da Fonte n)).\n",
        "        \"\"\",\n",
        "        description=\"Agente que organiza os resultados da verificação\",\n",
        "        tools=[google_search]\n",
        "    )\n",
        "\n",
        "    entrada_do_agente_organizador_resultado = f\"Tópico:{topico}\\nLançamentos buscados:{lancamentos_buscados}\\nVerificação fontes:{verificacao_fontes}\\nVerificação conteúdo:{verificacao_conteudo}\\nVerificação fatos:{verificacao_fatos}\"\n",
        "    # Executa o agente\n",
        "    resultado = call_agent(organizador,  entrada_do_agente_organizador_resultado)\n",
        "    return resultado"
      ],
      "metadata": {
        "id": "UCCbECexLk_h"
      },
      "execution_count": 17,
      "outputs": []
    },
    {
      "cell_type": "code",
      "source": [
        "data_de_hoje = date.today().strftime(\"%d/%m/%Y\")\n",
        "\n",
        "print(\"🚀 Iniciando o Sistema de Verificação de Fatos com 5 Agentes 🚀\")\n",
        "\n",
        "# --- Obter o Tópico do Usuário ---\n",
        "topico = input(\"❓ Por favor, digite o TÓPICO sobre o qual você quer saber a veracidade: \")\n",
        "\n",
        "# Inserir lógica do sistema de agentes ################################################\n",
        "if not topico:\n",
        "    print(\"Você esqueceu de digitar o tópico!\")\n",
        "else:\n",
        "    print(f\"Maravilha! Vamos pesquisar sobre a veracidade a respeito de {topico}\")\n",
        "\n",
        "    lancamentos_buscados = agente_buscador(topico, data_de_hoje)\n",
        "    print(\"\\n--- 📝 Resultado do Agente 1 (Buscador de Notícias) ---\\n\")\n",
        "    display(to_markdown(lancamentos_buscados))\n",
        "    print(\"--------------------------------------------------------------\")\n",
        "\n",
        "    verificacao_fontes = agente_verificador_fontes(topico, lancamentos_buscados)\n",
        "    print(\"\\n--- 📝 Resultado do Agente 2 (Verificador de Fontes) ---\\n\")\n",
        "    display(to_markdown(verificacao_fontes))\n",
        "    print(\"--------------------------------------------------------------\")\n",
        "\n",
        "    verificacao_conteudo = agente_verificador_conteudo(topico, lancamentos_buscados)\n",
        "    print(\"\\n--- 📝 Resultado do Agente 3 (Verificador de Conteúdo) ---\\n\")\n",
        "    display(to_markdown(verificacao_conteudo))\n",
        "    print(\"--------------------------------------------------------------\")\n",
        "\n",
        "    verificacao_fatos = agente_verificador_fatos(topico, data_de_hoje)\n",
        "    print(\"\\n--- 📝 Resultado do Agente 4 (Agências de Fact-Checking) ---\\n\")\n",
        "    display(to_markdown(verificacao_fatos))\n",
        "    print(\"--------------------------------------------------------------\")\n",
        "\n",
        "    resultado = agente_organizador_resultado(topico, lancamentos_buscados, verificacao_fontes, verificacao_conteudo, verificacao_fatos)\n",
        "    print(\"\\n--- 📝 Resultado do Agente 5 (Organizador do Resultado da Verificação) ---\\n\")\n",
        "    display(to_markdown(resultado))\n",
        "    print(\"--------------------------------------------------------------\")"
      ],
      "metadata": {
        "colab": {
          "base_uri": "https://localhost:8080/",
          "height": 1000
        },
        "id": "6xzI6LKzxxnN",
        "outputId": "293cd74d-2cbe-455f-f012-3a0e6206c262"
      },
      "execution_count": 19,
      "outputs": [
        {
          "output_type": "stream",
          "name": "stdout",
          "text": [
            "🚀 Iniciando o Sistema de Verificação de Fatos com 5 Agentes 🚀\n",
            "❓ Por favor, digite o TÓPICO sobre o qual você quer saber a veracidade: As tarifas dos EUA vão favorecer a sua economia?\n",
            "Maravilha! Vamos pesquisar sobre a veracidade a respeito de As tarifas dos EUA vão favorecer a sua economia?\n",
            "\n",
            "--- 📝 Resultado do Agente 1 (Buscador de Notícias) ---\n",
            "\n"
          ]
        },
        {
          "output_type": "display_data",
          "data": {
            "text/plain": [
              "<IPython.core.display.Markdown object>"
            ],
            "text/markdown": "> Okay, farei uma pesquisa no Google para encontrar notícias recentes e relevantes sobre o impacto das tarifas dos EUA na economia americana.\n> \n> \n> Com base na minha pesquisa, aqui estão algumas notícias recentes sobre o impacto das tarifas dos EUA na sua economia:\n> \n> 1.  **Título:** Entenda a guerra de tarifas de Trump e consequências para o Brasil\n>     *   **Resumo:** O artigo da Agência Brasil analisa como as tarifas impostas pelo governo dos EUA visam recuperar a indústria do país e combater déficits comerciais. No entanto, um economista argumenta que as tarifas por si só não resolvem a perda de competitividade dos EUA, e que o tarifaço representa um \"choque brutal\" na economia mundial. O artigo também aponta oportunidades para o Brasil expandir suas exportações.\n>     *   **Link:** [https://vertexaisearch.cloud.google.com/grounding-api-redirect/AbF9wXG28GbmJC0oFsokL-Mo63dpkJaPB67IVX4RnrxT7iMF-kGzSfn1cjdmibDuHTiX9A4XD-Q380KUmujMPSn2K5CbgN76LzkDrYxj2n6XDGQt0RIBXA8B-AMTxJm017to70RHNPkaS_JC9CfRaxoShCbnZRO9kB4QAasO_9FPLyffiWXheQ846n6bX9S5pqOEDbQLYo_u0lmiYOPyIr8ABx_7XghHuDlXaei_brjDUFw96XX5](https://vertexaisearch.cloud.google.com/grounding-api-redirect/AbF9wXG28GbmJC0oFsokL-Mo63dpkJaPB67IVX4RnrxT7iMF-kGzSfn1cjdmibDuHTiX9A4XD-Q380KUmujMPSn2K5CbgN76LzkDrYxj2n6XDGQt0RIBXA8B-AMTxJm017to70RHNPkaS_JC9CfRaxoShCbnZRO9kB4QAasO_9FPLyffiWXheQ846n6bX9S5pqOEDbQLYo_u0lmiYOPyIr8ABx_7XghHuDlXaei_brjDUFw96XX5)\n> 2.  **Título:** Tarifas dos EUA: entre o prejuízo e a oportunidade - Senado Federal\n>     *   **Resumo:** Esta notícia do Senado Federal discute como as tarifas de Trump podem prejudicar o Brasil, mas também gerar oportunidades de crescimento. Um consultor legislativo sugere que, se Trump continuar com políticas comerciais agressivas, o Brasil pode se beneficiar da demanda internacional por seus produtos. O artigo também menciona que o governo brasileiro está buscando negociações para evitar tarifas discriminatórias.\n>     *   **Link:** [https://vertexaisearch.cloud.google.com/grounding-api-redirect/AbF9wXESS_GLY8KKpRXCuPLGz8ouTYik39jGX00ClK-1972cwrBkRNPnkFkoQsT3CeYkm8jI4cC75ZSZmCmm1vpzZ5ta6uAO6XwzXaVNUpctsIZ2gufWkKA9tQsMFewub_OpT-KjBSRM6yivpG0aeVEfhvJPBh1Bd341VzAzfj2rIbSZOlwHGGn4kudTeeqXbFYmVZBimMizI7iVZNHOmoF9MxJa2ZkEGg==](https://vertexaisearch.cloud.google.com/grounding-api-redirect/AbF9wXESS_GLY8KKpRXCuPLGz8ouTYik39jGX00ClK-1972cwrBkRNPnkFkoQsT3CeYkm8jI4cC75ZSZmCmm1vpzZ5ta6uAO6XwzXaVNUpctsIZ2gufWkKA9tQsMFewub_OpT-KjBSRM6yivpG0aeVEfhvJPBh1Bd341VzAzfj2rIbSZOlwHGGn4kudTeeqXbFYmVZBimMizI7iVZNHOmoF9MxJa2ZkEGg==)\n> 3.  **Título:** Como as novas tarifas dos EUA podem impactar o Comércio Exterior - Conexos Cloud\n>     *   **Resumo:** O artigo explora como as tarifas dos EUA podem afetar o comércio exterior, mencionando que as tarifas podem levar a retaliações, tensões comerciais e revisão de acordos comerciais. Também aponta que, embora as tarifas visem fortalecer a indústria nacional, muitas empresas americanas dependem de matérias-primas importadas, o que pode prejudicar sua competitividade.\n>     *   **Link:** [https://vertexaisearch.cloud.google.com/grounding-api-redirect/AbF9wXEu41vBDqC510-Ww_Vx4Ho-0Yta153rRfMjax0_ttBc3FlFabczRR81OA7RYo7A1tKJwx084gYqt5_rrtVEWZ3AnyAW4Gy7mrAEYQldHa4XaEtbNNncMQGLrEgRp4vKW5-sBWnYKpnMNJ341IAszbHH8WtCr84wiwWGOMvDikx5Bec=](https://vertexaisearch.cloud.google.com/grounding-api-redirect/AbF9wXEu41vBDqC510-Ww_Vx4Ho-0Yta153rRfMjax0_ttBc3FlFabczRR81OA7RYo7A1tKJwx084gYqt5_rrtVEWZ3AnyAW4Gy7mrAEYQldHa4XaEtbNNncMQGLrEgRp4vKW5-sBWnYKpnMNJ341IAszbHH8WtCr84wiwWGOMvDikx5Bec=)\n> 4.  **Título:** Economia dos EUA tem contração no 1º tri em meio a tarifas de Trump - CNN Brasil\n>     *   **Resumo:** Esta notícia da CNN Brasil relata que a economia dos EUA contraiu no primeiro trimestre, em parte devido a empresas importando produtos para evitar tarifas mais altas. O artigo menciona que a confiança do consumidor está baixa e o sentimento empresarial despencou.\n>     *   **Link:** [https://vertexaisearch.cloud.google.com/grounding-api-redirect/AbF9wXHwZR4mcajRNjpUAGLZ9IIldY1H13YnUT5P--2b2SAsaT7kMq6qTLSwA6BfEIbLJsUK1PXGXvy3VBBkk4ZXjWYPoIGS13nBXYiBthDmzRn6xiXwssUGZ2g_WZMkyaBvBqWhVnDsoTzEM52uh9ua0bc9xZdoUrqzBbzGut3E7chnQ_gWJ5x5KKXTNfuWDi4SymxAiKnpncoeUkrQB5KCaGVeNev0bGiDqvvFUmngktF05L5s](https://vertexaisearch.cloud.google.com/grounding-api-redirect/AbF9wXHwZR4mcajRNjpUAGLZ9IIldY1H13YnUT5P--2b2SAsaT7kMq6qTLSwA6BfEIbLJsUK1PXGXvy3VBBkk4ZXjWYPoIGS13nBXYiBthDmzRn6xiXwssUGZ2g_WZMkyaBvBqWhVnDsoTzEM52uh9ua0bc9xZdoUrqzBbzGut3E7chnQ_gWJ5x5KKXTNfuWDi4SymxAiKnpncoeUkrQB5KCaGVeNev0bGiDqvvFUmngktF05L5s)\n> 5.  **Título:** Quais podem ser os impactos para os EUA do “Dia da Libertação” de Trump\n>     *   **Resumo:** Este artigo discute a implementação da nova política tarifária de Trump, que estabelece uma tarifa base de 10% sobre quase todos os produtos importados, com taxas mais altas para países com maior desequilíbrio comercial com os EUA. O governo dos EUA prevê uma arrecadação bilionária e promete cortes de impostos, enquanto especialistas alertam para o risco de inflação e desaceleração econômica.\n>     *   **Link:** [https://vertexaisearch.cloud.google.com/grounding-api-redirect/AbF9wXFdQUafl4DB9Q8csISY1zEg-J1GcKhGp0F-80lRsFKEDo1POxtFSOsoBiSOpuUqnst1KtKHqbt3BXcgEuBUHUIAc73sPOmNrWl62iAy2Vqno8mvayKppBe051B4syQ5TMR26lOo2tVhUynw_aT1HlfDlYxZ0kc0-poqleEfqrNrGFz5KX0bh9fEwti3WshrTmakuMkMHZjXwQ5S6d_rZd_AbGf_ZBPs](https://vertexaisearch.cloud.google.com/grounding-api-redirect/AbF9wXFdQUafl4DB9Q8csISY1zEg-J1GcKhGp0F-80lRsFKEDo1POxtFSOsoBiSOpuUqnst1KtKHqbt3BXcgEuBUHUIAc73sPOmNrWl62iAy2Vqno8mvayKppBe051B4syQ5TMR26lOo2tVhUynw_aT1HlfDlYxZ0kc0-poqleEfqrNrGFz5KX0bh9fEwti3WshrTmakuMkMHZjXwQ5S6d_rZd_AbGf_ZBPs)\n> \n> Essas notícias indicam que o impacto das tarifas dos EUA na economia é complexo e multifacetado, com opiniões divergentes sobre se elas favorecerão ou não a economia a longo prazo. Alguns especialistas preveem impactos negativos, como aumento da inflação e desaceleração do crescimento, enquanto outros apontam para potenciais benefícios, como o fortalecimento da indústria nacional e novas oportunidades para países como o Brasil.\n> \n"
          },
          "metadata": {}
        },
        {
          "output_type": "stream",
          "name": "stdout",
          "text": [
            "--------------------------------------------------------------\n",
            "\n",
            "--- 📝 Resultado do Agente 2 (Verificador de Fontes) ---\n",
            "\n"
          ]
        },
        {
          "output_type": "display_data",
          "data": {
            "text/plain": [
              "<IPython.core.display.Markdown object>"
            ],
            "text/markdown": "> Ok, analisarei as fontes apresentadas para determinar sua confiabilidade e possíveis vieses.\n> \n> **1. Agência Brasil**\n> \n> *   **Confiabilidade:** A Agência Brasil é uma agência de notícias pública, ligada ao governo federal brasileiro. Em geral, é considerada uma fonte confiável de notícias sobre o Brasil, mas é importante estar ciente de que sua cobertura pode ser influenciada pelas políticas governamentais.\n> *   **Sobre nós:** A Agência Brasil é parte da Empresa Brasil de Comunicação (EBC), que tem como missão \"prestar serviços de comunicação pública, de forma a promover a informação, o conhecimento, a cultura e o lazer, contribuindo para a construção da cidadania e o fortalecimento da democracia\". A EBC é uma empresa pública, o que significa que é financiada pelo governo, mas deve operar de forma independente.\n> *   **Corroboração:** Outras fontes de notícias, como a BBC Brasil e a Folha de S.Paulo, frequentemente citam a Agência Brasil como fonte de informações sobre o governo brasileiro.\n> \n> **2. Senado Federal**\n> \n> *   **Confiabilidade:** O site do Senado Federal é uma fonte oficial de informações sobre as atividades do Senado, incluindo notícias, legislação e informações sobre os senadores. É geralmente considerado uma fonte confiável de informações sobre o Senado.\n> *   **Sobre nós:** O site do Senado tem como objetivo informar os cidadãos sobre o trabalho do Senado e promover a transparência.\n> *   **Corroboração:** As notícias do Senado são frequentemente cobertas por outros veículos de comunicação, como a Agência Brasil e os principais jornais do país.\n> \n> **3. Conexos Cloud**\n> \n> *   **Confiabilidade:** A Conexos Cloud parece ser uma empresa que oferece soluções de software para comércio exterior. A confiabilidade de suas notícias sobre tarifas dos EUA pode depender da sua experiência no assunto e da imparcialidade na análise.\n> *   **Sobre nós:** A seção \"Sobre nós\" do site da Conexos Cloud pode fornecer mais informações sobre sua missão e expertise. É importante verificar se a empresa tem um viés que possa influenciar sua análise das tarifas dos EUA.\n> *   **Corroboração:** É recomendável comparar as informações fornecidas pela Conexos Cloud com outras fontes confiáveis, como jornais de economia e consultorias especializadas em comércio exterior.\n> \n> **4. CNN Brasil**\n> \n> *   **Confiabilidade:** A CNN Brasil é um canal de notícias afiliado à CNN. A CNN é geralmente considerada uma fonte confiável de notícias, mas é importante estar ciente de que pode ter um viés em sua cobertura.\n> *   **Sobre nós:** A CNN Brasil tem como objetivo fornecer notícias imparciais e abrangentes sobre o Brasil e o mundo.\n> *   **Corroboração:** As notícias da CNN Brasil são frequentemente cobertas por outros veículos de comunicação.\n> \n> **5. Fonte Desconhecida (vertexaisearch.cloud.google.com)**\n> \n> *   **Confiabilidade:** O link \"vertexaisearch.cloud.google.com\" não indica uma fonte específica, mas sim um redirecionamento do Google. Portanto, é impossível avaliar a confiabilidade da fonte original sem saber qual é o site por trás desse link.\n> *   **Sobre nós:** Impossível determinar sem identificar a fonte original.\n> *   **Corroboração:** Impossível determinar sem identificar a fonte original.\n> \n> Para concluir a avaliação, seria necessário identificar a fonte original do link \"vertexaisearch.cloud.google.com\" e verificar sua confiabilidade. Além disso, é sempre recomendável comparar informações de diferentes fontes para obter uma visão mais completa e equilibrada do assunto.\n> \n"
          },
          "metadata": {}
        },
        {
          "output_type": "stream",
          "name": "stdout",
          "text": [
            "--------------------------------------------------------------\n",
            "\n",
            "--- 📝 Resultado do Agente 3 (Verificador de Conteúdo) ---\n",
            "\n"
          ]
        },
        {
          "output_type": "display_data",
          "data": {
            "text/plain": [
              "<IPython.core.display.Markdown object>"
            ],
            "text/markdown": "> A análise das notícias sobre as tarifas dos EUA e seu impacto na economia revela um cenário complexo, com tanto potenciais benefícios quanto desvantagens.\n> \n> **Pontos identificados:**\n> \n> *   **Objetivo das tarifas:** As tarifas são impostas com o objetivo de proteger a indústria doméstica dos EUA e reduzir os déficits comerciais.\n> *   **Críticas:** Economistas argumentam que as tarifas não resolvem problemas de competitividade e podem gerar \"choques\" na economia global.\n> *   **Oportunidades:** Alguns analistas sugerem que as tarifas podem criar oportunidades para outros países, como o Brasil, aumentarem suas exportações.\n> *   **Impactos negativos:** Há preocupações de que as tarifas levem a retaliações comerciais, tensões, aumento da inflação e desaceleração do crescimento econômico. Empresas americanas que dependem de matérias-primas importadas também podem ser prejudicadas.\n> *   **Evitando tarifas:** A imposição de tarifas pode levar empresas a anteciparem importações para evitar taxas mais altas, o que pode gerar contração econômica em alguns trimestres.\n> \n> **Conclusão:**\n> \n> Não há um consenso claro nas notícias sobre se as tarifas dos EUA \"favorecerão\" a economia americana. A maioria dos artigos aponta para uma mistura de potenciais benefícios e desvantagens, com riscos significativos de impactos negativos na economia global.\n> \n"
          },
          "metadata": {}
        },
        {
          "output_type": "stream",
          "name": "stdout",
          "text": [
            "--------------------------------------------------------------\n",
            "\n",
            "--- 📝 Resultado do Agente 4 (Agências de Fact-Checking) ---\n",
            "\n"
          ]
        },
        {
          "output_type": "display_data",
          "data": {
            "text/plain": [
              "<IPython.core.display.Markdown object>"
            ],
            "text/markdown": "> Após analisar diversas fontes de agências de fact-checking e notícias, observo o seguinte:\n> \n> *   **Impacto nas Exportações Brasileiras:** As tarifas dos EUA podem afetar as exportações brasileiras, especialmente em setores como o agronegócio, alumínio e aço. No entanto, alguns especialistas acreditam que o Brasil pode se beneficiar da guerra comercial entre os EUA e outros países, como a China, aumentando suas exportações de commodities.\n> \n> *   **Crescimento Econômico:** Há preocupações de que o aumento das tarifas americanas possa desacelerar o comércio internacional e a economia global, afetando a demanda por commodities brasileiras. Por outro lado, alguns analistas sugerem que o Brasil pode fortalecer parcerias comerciais com outros países, como a China, para reduzir a dependência econômica dos EUA.\n> \n> *   **Inflação:** As tarifas dos EUA podem levar ao aumento dos preços dos produtos importados, resultando em inflação mais alta para os consumidores americanos. No Brasil, a desvalorização do real em relação ao dólar pode trazer alívio para a inflação, barateando os produtos importados.\n> \n> *   **Setores Específicos:** Setores como o de aço e etanol podem ser mais impactados pelas tarifas dos EUA, enquanto o setor de soja pode se beneficiar do aumento da demanda chinesa.\n> \n> *   **Reações e Acordos:** O Brasil pode adotar medidas de retaliação ou buscar acordos comerciais com outros países para mitigar os efeitos negativos das tarifas dos EUA.\n> \n> No geral, as tarifas dos EUA representam tanto riscos quanto oportunidades para a economia brasileira. A depender da postura adotada pelo Brasil e das condições do mercado global, o país pode enfrentar desafios ou se beneficiar da nova conjuntura comercial.\n> \n> Não encontrei nenhuma verificação de fatos que desse um veredito definitivo sobre se as tarifas dos EUA vão favorecer a economia americana. A maioria das fontes discute os possíveis impactos e cenários, sem chegar a uma conclusão simples de verdadeiro ou falso.\n> \n"
          },
          "metadata": {}
        },
        {
          "output_type": "stream",
          "name": "stdout",
          "text": [
            "--------------------------------------------------------------\n",
            "\n",
            "--- 📝 Resultado do Agente 5 (Organizador do Resultado da Verificação) ---\n",
            "\n"
          ]
        },
        {
          "output_type": "display_data",
          "data": {
            "text/plain": [
              "<IPython.core.display.Markdown object>"
            ],
            "text/markdown": "> - A análise das notícias indica que o impacto das tarifas dos EUA na sua economia é complexo, com opiniões divergentes sobre seus efeitos a longo prazo. Há tanto potenciais benefícios quanto desvantagens, com riscos significativos de impactos negativos na economia global.\n> - Parecer: INSUSTENTÁVEL\n> - Justificativas:\n>   - As tarifas são impostas para proteger a indústria doméstica dos EUA e reduzir os déficits comerciais, mas economistas questionam se resolvem problemas de competitividade.\n>   - Alguns analistas veem oportunidades para países como o Brasil aumentarem suas exportações, enquanto outros temem retaliações comerciais, tensões e desaceleração econômica.\n>   - A imposição de tarifas pode levar empresas a anteciparem importações, causando contração econômica em alguns trimestres.\n>   - Não há consenso claro sobre se as tarifas dos EUA favorecerão a economia americana.\n> - Fontes relevantes:\n>   - [Agência Brasil - Entenda a guerra de tarifas de Trump e consequências para o Brasil](https://vertexaisearch.cloud.google.com/grounding-api-redirect/AbF9wXG28GbmJC0oFsokL-Mo63dpkJaPB67IVX4RnrxT7iMF-kGzSfn1cjdmibDuHTiX9A4XD-Q380KUmujMPSn2K5CbgN76LzkDrYxj2n6XDGQt0RIBXA8B-AMTxJm017to70RHNPkaS_JC9CfRaxoShCbnZRO9kB4QAasO_9FPLyffiWXheQ846n6bX9S5pqOEDbQLYo_u0lmiYOPyIr8ABx_7XghHuDlXaei_brjDUFw96XX5)\n>   - [Senado Federal - Tarifas dos EUA: entre o prejuízo e a oportunidade](https://vertexaisearch.cloud.google.com/grounding-api-redirect/AbF9wXESS_GLY8KKpRXCuPLGz8ouTYik39jGX00ClK-1972cwrBkRNPnkFkoQsT3CeYkm8jI4cC75ZSZmCmm1vpzZ5ta6uAO6XwzXaVNUpctsIZ2gufWkKA9tQsMFewub_OpT-KjBSRM6yivpG0aeVEfhvJPBh1Bd341VzAzfj2rIbSZOlwHGGn4kudTeeqXbFYmVZBimMizI7iVZNHOmoF9MxJa2ZkEGg==)\n>   - [Conexos Cloud - Como as novas tarifas dos EUA podem impactar o Comércio Exterior](https://vertexaisearch.cloud.google.com/grounding-api-redirect/AbF9wXEu41vBDqC510-Ww_Vx4Ho-0Yta153rRfMjax0_ttBc3FlFabczRR81OA7RYo7A1tKJwx084gYqt5_rrtVEWZ3AnyAW4Gy7mrAEYQldHa4XaEtbNNncMQGLrEgRp4vKW5-sBWnYKpnMNJ341IAszbHH8WtCr84wiwWGOMvDikx5Bec=)\n>   - [CNN Brasil - Economia dos EUA tem contração no 1º tri em meio a tarifas de Trump](https://vertexaisearch.cloud.google.com/grounding-api-redirect/AbF9wXHwZR4mcajRNjpUAGLZ9IIldY1H13YnUT5P--2b2SAsaT7kMq6qTLSwA6BfEIbLJsUK1PXGXvy3VBBkk4ZXjWYPoIGS13nBXYiBthDmzRn6xiXwssUGZ2g_WZMkyaBvBqWhVnDsoTzEM52uh9ua0bc9xZdoUrqzBbzGut3E7chnQ_gWJ5x5KKXTNfuWDi4SymxAiKnpncoeUkrQB5KCaGVeNev0bGiDqvvFUmngktF05L5s)\n>   - [Fonte Desconhecida - Quais podem ser os impactos para os EUA do “Dia da Libertação” de Trump](https://vertexaisearch.cloud.google.com/grounding-api-redirect/AbF9wXFdQUafl4DB9Q8csISY1zEg-J1GcKhGp0F-80lRsFKEDo1POxtFSOsoBiSOpuUqnst1KtKHqbt3BXcgEuBUHUIAc73sPOmNrWl62iAy2Vqno8mvayKppBe051B4syQ5TMR26lOo2tVhUynw_aT1HlfDlYxZ0kc0-poqleEfqrNrGFz5KX0bh9fEwti3WshrTmakuMkMHZjXwQ5S6d_rZd_AbGf_ZBPs)\n> \n"
          },
          "metadata": {}
        },
        {
          "output_type": "stream",
          "name": "stdout",
          "text": [
            "--------------------------------------------------------------\n"
          ]
        }
      ]
    }
  ]
}