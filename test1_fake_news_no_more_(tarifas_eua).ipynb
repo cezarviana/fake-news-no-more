{
  "nbformat": 4,
  "nbformat_minor": 0,
  "metadata": {
    "colab": {
      "provenance": [],
      "include_colab_link": true
    },
    "kernelspec": {
      "name": "python3",
      "display_name": "Python 3"
    },
    "language_info": {
      "name": "python"
    }
  },
  "cells": [
    {
      "cell_type": "markdown",
      "metadata": {
        "id": "view-in-github",
        "colab_type": "text"
      },
      "source": [
        "<a href=\"https://colab.research.google.com/github/cezarviana/fake-news-no-more/blob/main/fake_news_no_more_(verificador_de_noticias).ipynb\" target=\"_parent\"><img src=\"https://colab.research.google.com/assets/colab-badge.svg\" alt=\"Open In Colab\"/></a>"
      ]
    },
    {
      "cell_type": "code",
      "source": [
        "%pip -q install google-genai\n",
        "\n",
        "\n",
        "# Configura a API Key do Google Gemini\n",
        "\n",
        "import os\n",
        "from google.colab import userdata\n",
        "\n",
        "os.environ[\"GOOGLE_API_KEY\"] = userdata.get('GOOGLE_API_KEY')\n",
        "\n",
        "\n",
        "# Configura o cliente da SDK do Gemini\n",
        "\n",
        "from google import genai\n",
        "\n",
        "client = genai.Client()\n",
        "\n",
        "MODEL_ID = \"gemini-2.0-flash\"\n",
        "\n",
        "\n",
        "# Instalar Framework de agentes do Google ################################################\n",
        "!pip install -q google-adk\n",
        "\n",
        "\n",
        "from google.adk.agents import Agent\n",
        "from google.adk.runners import Runner\n",
        "from google.adk.sessions import InMemorySessionService\n",
        "from google.adk.tools import google_search\n",
        "from google.genai import types  # Para criar conteúdos (Content e Part)\n",
        "from datetime import date\n",
        "import textwrap # Para formatar melhor a saída de texto\n",
        "from IPython.display import display, Markdown # Para exibir texto formatado no Colab\n",
        "import requests # Para fazer requisições HTTP\n",
        "import warnings\n",
        "\n",
        "warnings.filterwarnings(\"ignore\")\n",
        "\n",
        "\n",
        "# Função auxiliar que envia uma mensagem para um agente via Runner e retorna a resposta final\n",
        "def call_agent(agent: Agent, message_text: str) -> str:\n",
        "    # Cria um serviço de sessão em memória\n",
        "    session_service = InMemorySessionService()\n",
        "    # Cria uma nova sessão (você pode personalizar os IDs conforme necessário)\n",
        "    session = session_service.create_session(app_name=agent.name, user_id=\"user1\", session_id=\"session1\")\n",
        "    # Cria um Runner para o agente\n",
        "    runner = Runner(agent=agent, app_name=agent.name, session_service=session_service)\n",
        "    # Cria o conteúdo da mensagem de entrada\n",
        "    content = types.Content(role=\"user\", parts=[types.Part(text=message_text)])\n",
        "\n",
        "    final_response = \"\"\n",
        "    # Itera assincronamente pelos eventos retornados durante a execução do agente\n",
        "    for event in runner.run(user_id=\"user1\", session_id=\"session1\", new_message=content):\n",
        "        if event.is_final_response():\n",
        "          for part in event.content.parts:\n",
        "            if part.text is not None:\n",
        "              final_response += part.text\n",
        "              final_response += \"\\n\"\n",
        "    return final_response\n",
        "\n",
        "\n",
        "# Função auxiliar para exibir texto formatado em Markdown no Colab\n",
        "def to_markdown(text):\n",
        "  text = text.replace('•', '  *')\n",
        "  return Markdown(textwrap.indent(text, '> ', predicate=lambda _: True))\n",
        "\n",
        "\n",
        "##########################################\n",
        "# --- Agente 1: Buscador de Notícias --- #\n",
        "##########################################\n",
        "def agente_buscador(topico, data_de_hoje):\n",
        "    buscador = Agent(\n",
        "        name=\"agente_buscador\",\n",
        "        model=\"gemini-2.0-flash\",\n",
        "        instruction=\"\"\"\n",
        "        Você é parte de um sistema colaborativo de verificação de notícias. Siga rigorosamente as instruções específicas da sua função para analisar o tópico fornecido e contribuir para a determinação da sua veracidade.\n",
        "        Sua função é ser um assistente de pesquisa. A sua tarefa é usar a ferramenta de busca google (google_search) para recuperar as últimas notícias de lançamentos muito relevantes sobre o tópico abaixo.\n",
        "        Priorize fontes jornalísticas reconhecidas e com boa reputação.\n",
        "        Selecione no máximo 5 lançamentos que demonstrem relevância (baseada na cobertura e qualidade da fonte) e sejam os mais atuais possíveis.\n",
        "        Se o tópico não possuir 5 notícias a seu respeito, apresente somente as encontradas. Sem adicionar outras notícias com termos parecidos e que não tenham relação direta com o tópico.\n",
        "        Se o tópico gerar pouca cobertura noticiosa ou reações limitadas, sinalize essa baixa relevância como um possível indicativo para considerar outros tópicos.\n",
        "        Esses lançamentos relevantes devem ser atuais, de no máximo um mês antes da data de hoje.\n",
        "        \"\"\",\n",
        "        description=\"Agente que busca de notícias no Google Search sobre o tópico\",\n",
        "        tools=[google_search]\n",
        "    )\n",
        "\n",
        "    entrada_do_agente_buscador = f\"Tópico: {topico}\\nData de hoje: {data_de_hoje}\"\n",
        "    # Executa o agente\n",
        "    lancamentos_buscados = call_agent(buscador, entrada_do_agente_buscador)\n",
        "    return lancamentos_buscados\n",
        "\n",
        "\n",
        "################################################\n",
        "# --- Agente 2: Verificador de Fontes --- #\n",
        "################################################\n",
        "def agente_verificador_fontes(topico, lancamentos_buscados):\n",
        "    verificador_fontes = Agent(\n",
        "        name=\"agente_verificador_fontes\",\n",
        "        model=\"gemini-2.0-flash\",\n",
        "        # Inserir as instruções do Agente Verificador de Fontes #################################################\n",
        "        instruction=\"\"\"\n",
        "        Você é parte de um sistema colaborativo de verificação de notícias. Siga rigorosamente as instruções específicas da sua função para analisar o tópico fornecido e contribuir para a determinação da sua veracidade.\n",
        "        Sua função é ser um verificador de fontes, especialista em fact-checking.\n",
        "        Para cada fonte principal identificada:\n",
        "        - Determine se o site ou canal é conhecido e geralmente considerado confiável.\n",
        "        - Localize e examine a seção 'Sobre nós' (ou equivalente) para entender a missão, equipe e possíveis vieses do site.\n",
        "        - Verifique se outras fontes confiáveis corroboram as informações apresentadas pela fonte principal. Liste as fontes que confirmam os achados.\n",
        "        \"\"\",\n",
        "        description=\"Agente que verifica as fontes levantadas\",\n",
        "        tools=[google_search]\n",
        "    )\n",
        "\n",
        "    entrada_do_agente_verificador_fontes = f\"Tópico:{topico}\\nLançamentos buscados: {lancamentos_buscados}\"\n",
        "    # Executa o agente\n",
        "    verificacao_fontes = call_agent(verificador_fontes, entrada_do_agente_verificador_fontes)\n",
        "    return verificacao_fontes\n",
        "\n",
        "\n",
        "################################################\n",
        "# --- Agente 3: Verificador de Conteúdo --- #\n",
        "################################################\n",
        "def agente_verificador_conteudo(topico, lancamentos_buscados):\n",
        "    verificador_conteudo = Agent(\n",
        "        name=\"agente_verificador_conteudo\",\n",
        "        model=\"gemini-2.0-flash\",\n",
        "        # Inserir as instruções do Agente Verificador de Conteúdo #################################################\n",
        "        instruction=\"\"\"\n",
        "        Você é parte de um sistema colaborativo de verificação de notícias. Siga rigorosamente as instruções específicas da sua função para analisar o tópico fornecido e contribuir para a determinação da sua veracidade.\n",
        "        Sua função é ser um verificador de conteúdo, especialista em fact-checking.\n",
        "        Examine o conteúdo das notícias e informações relacionadas ao tópico.\n",
        "        Linguagem e Estilo:\n",
        "        - Avalie se há uso de sofismos ou outras técnicas de persuasão manipuladoras.\n",
        "        - Identifique erros de ortografia e gramática que possam indicar falta de profissionalismo ou revisão.\n",
        "        - Distinga claramente entre fatos apresentados e opiniões, verificando se as opiniões são devidamente atribuídas.\n",
        "        Contexto e Evidências:\n",
        "        - Verifique se a data da informação é relevante para o contexto atual.\n",
        "        - Se houver imagens, utilize a busca reversa (Google Imagens) para verificar sua autenticidade e se foram usadas em outros contextos enganosos.\n",
        "        Coerência:\n",
        "        - Avalie a lógica interna do conteúdo e sua coerência com informações de outras fontes.\n",
        "        \"\"\",\n",
        "        description=\"Agente que verifica o conteúdo das notícias levantadas\",\n",
        "        tools=[google_search]\n",
        "    )\n",
        "\n",
        "    entrada_do_agente_verificador_conteudo = f\"Tópico:{topico}\\nLançamentos buscados: {lancamentos_buscados}\"\n",
        "    # Executa o agente\n",
        "    verificacao_conteudo = call_agent(verificador_conteudo, entrada_do_agente_verificador_conteudo)\n",
        "    return verificacao_conteudo\n",
        "\n",
        "\n",
        "##########################################\n",
        "# --- Agente 4: Agência de Fact-Checking --- #\n",
        "##########################################\n",
        "def agente_verificador_fatos(topico, data_de_hoje):\n",
        "    verificador_fatos = Agent(\n",
        "        name=\"agente_verificador_fatos\",\n",
        "        model=\"gemini-2.0-flash\",\n",
        "        instruction=\"\"\"\n",
        "        Você é parte de um sistema colaborativo de verificação de notícias. Siga rigorosamente as instruções específicas da sua função para analisar o tópico fornecido e contribuir para a determinação da sua veracidade.\n",
        "        Sua tarefa é verificar se o tópico/afirmação já foi alvo de checagem por agências de fact-checking confiáveis, através da  busca google (google_search), priorizando as verificações mais recentes sobre o tópico.\n",
        "        As agências de fact-checking a serem consultadas de acordo com o tópico serão as indicadas abaixo:\n",
        "        - No Brasil:\n",
        "          - Aos Fatos;\n",
        "          - Lupa;\n",
        "          - UOL Confere;\n",
        "          - Estadão Verifica;\n",
        "          - Fato ou Fake (G1);\n",
        "          - Boatos.org;\n",
        "          - Agência Pública - Truco no Congresso;\n",
        "          - Comprova;\n",
        "          - E-farsas;\n",
        "          - É isso Mesmo? (O Globo);\n",
        "          - Portal EBC - Checagem;\n",
        "        - Internacionais com atuação ou relevância no Brasil:\n",
        "          - AFP Fact Check;\n",
        "          - Reuters Fact Check;\n",
        "          - Snopes;\n",
        "          - PolitiFact;\n",
        "          - FactCheck.org;\n",
        "        - Organizações e Redes Internacionais:\n",
        "          - International Fact-Checking Network (IFCN);\n",
        "          - European Fact-Checking Standards Network (EFCSN);\n",
        "          - Duke Reporters' Lab;\n",
        "        Informe se o tópico foi encontrado em alguma das agências de fact-checking e qual foi a conclusão dessas agências (verdadeiro, falso, enganoso, etc.).\n",
        "        Se encontrado, cite a fonte da agência de fact-checking e um breve resumo da sua análise.\n",
        "        \"\"\",\n",
        "        description=\"Agente que verifica o que agências de fact-checking dizem a respeito do tópico\",\n",
        "        tools=[google_search]\n",
        "    )\n",
        "\n",
        "    entrada_do_agente_verificador_fatos = f\"Tópico: {topico}\\nData de hoje: {data_de_hoje}\"\n",
        "    # Executa o agente\n",
        "    verificacao_fatos = call_agent(verificador_fatos, entrada_do_agente_verificador_fatos)\n",
        "    return verificacao_fatos\n",
        "\n",
        "\n",
        "###############################################\n",
        "# --- Agente 5: Organizador do Resultado da Verificação --- #\n",
        "################################################\n",
        "def agente_organizador_resultado(topico, lancamentos_buscados, verificacao_fontes, verificacao_conteudo, verificacao_fatos):\n",
        "    organizador = Agent(\n",
        "        name=\"agente_organizador_resultado\",\n",
        "        model=\"gemini-2.0-flash\",\n",
        "        # Inserir as instruções do Agente de Resultados #################################################\n",
        "        instruction=\"\"\"\n",
        "        Você é parte de um sistema colaborativo de verificação de notícias. Siga rigorosamente as instruções específicas da sua função para analisar o tópico fornecido e contribuir para a determinação da sua veracidade.\n",
        "        Sua função é organizar os resultados com base nas análises dos outros agentes sobre o tópico, e determinar a veracidade da informação.\n",
        "        Apresente um veredicto claro: Verdadeiro, Falso, Enganoso, Insustentável, etc.\n",
        "        Justifique sua conclusão de forma concisa, utilizando as evidências e os resultados fornecidos pelos outros agentes (agente_buscador, agente_verificador_fontes, agente_verificador_conteudo e agente_verificador_fatos).\n",
        "        Liste as fontes mais relevantes (sites de notícias confiáveis, agências de fact-checking) que sustentam sua conclusão.\n",
        "        \"\"\",\n",
        "        description=\"Agente que organiza os resultados da verificação\",\n",
        "        tools=[google_search]\n",
        "    )\n",
        "\n",
        "    entrada_do_agente_organizador_resultado = f\"Tópico:{topico}\\nLançamentos buscados:{lancamentos_buscados}\\nVerificação fontes:{verificacao_fontes}\\nVerificação conteúdo:{verificacao_conteudo}\\nVerificação fatos:{verificacao_fatos}\"\n",
        "    # Executa o agente\n",
        "    resultado = call_agent(organizador,  entrada_do_agente_organizador_resultado)\n",
        "    return resultado"
      ],
      "metadata": {
        "id": "UCCbECexLk_h"
      },
      "execution_count": 2,
      "outputs": []
    },
    {
      "cell_type": "code",
      "source": [
        "data_de_hoje = date.today().strftime(\"%d/%m/%Y\")\n",
        "\n",
        "print(\"🚀 Iniciando o Sistema de Verificação de Fatos com 5 Agentes 🚀\")\n",
        "\n",
        "# --- Obter o Tópico do Usuário ---\n",
        "topico = input(\"❓ Por favor, digite o TÓPICO sobre o qual você quer saber a veracidade: \")\n",
        "\n",
        "# Inserir lógica do sistema de agentes ################################################\n",
        "if not topico:\n",
        "    print(\"Você esqueceu de digitar o tópico!\")\n",
        "else:\n",
        "    print(f\"Maravilha! Vamos pesquisar sobre a veracidade a respeito de {topico}\")\n",
        "\n",
        "    lancamentos_buscados = agente_buscador(topico, data_de_hoje)\n",
        "    print(\"\\n--- 📝 Resultado do Agente 1 (Buscador de Notícias) ---\\n\")\n",
        "    display(to_markdown(lancamentos_buscados))\n",
        "    print(\"--------------------------------------------------------------\")\n",
        "\n",
        "    verificacao_fontes = agente_verificador_fontes(topico, lancamentos_buscados)\n",
        "    print(\"\\n--- 📝 Resultado do Agente 2 (Verificador de Fontes) ---\\n\")\n",
        "    display(to_markdown(verificacao_fontes))\n",
        "    print(\"--------------------------------------------------------------\")\n",
        "\n",
        "    verificacao_conteudo = agente_verificador_conteudo(topico, lancamentos_buscados)\n",
        "    print(\"\\n--- 📝 Resultado do Agente 3 (Verificador de Conteúdo) ---\\n\")\n",
        "    display(to_markdown(verificacao_conteudo))\n",
        "    print(\"--------------------------------------------------------------\")\n",
        "\n",
        "    verificacao_fatos = agente_verificador_fatos(topico, data_de_hoje)\n",
        "    print(\"\\n--- 📝 Resultado do Agente 4 (Agências de Fact-Checking) ---\\n\")\n",
        "    display(to_markdown(verificacao_fatos))\n",
        "    print(\"--------------------------------------------------------------\")\n",
        "\n",
        "    resultado = agente_organizador_resultado(topico, lancamentos_buscados, verificacao_fontes, verificacao_conteudo, verificacao_fatos)\n",
        "    print(\"\\n--- 📝 Resultado do Agente 5 (Organizador do Resultado da Verificação) ---\\n\")\n",
        "    display(to_markdown(resultado))\n",
        "    print(\"--------------------------------------------------------------\")"
      ],
      "metadata": {
        "colab": {
          "base_uri": "https://localhost:8080/",
          "height": 1000
        },
        "id": "6xzI6LKzxxnN",
        "outputId": "4cdbb30e-05af-4be2-b634-5d9fc6b2524b"
      },
      "execution_count": 4,
      "outputs": [
        {
          "output_type": "stream",
          "name": "stdout",
          "text": [
            "🚀 Iniciando o Sistema de Verificação de Fatos com 5 Agentes 🚀\n",
            "❓ Por favor, digite o TÓPICO sobre o qual você quer saber a veracidade: Tarifas dos EUA vão favorecer a sua economia?\n",
            "Maravilha! Vamos pesquisar sobre a veracidade a respeito de Tarifas dos EUA vão favorecer a sua economia?\n",
            "\n",
            "--- 📝 Resultado do Agente 1 (Buscador de Notícias) ---\n",
            "\n"
          ]
        },
        {
          "output_type": "display_data",
          "data": {
            "text/plain": [
              "<IPython.core.display.Markdown object>"
            ],
            "text/markdown": "> Okay, vou pesquisar no Google Search por notícias recentes e relevantes sobre o impacto das tarifas dos EUA na economia americana.\n> \n> \n> Com base nas notícias mais recentes, as tarifas dos EUA parecem estar tendo um impacto misto e, em alguns casos, negativo, na economia americana:\n> \n> 1.  **Desaceleração Econômica:** A economia dos EUA mostrou sinais de desaceleração antes mesmo do impacto total das tarifas de Trump ser sentido. No início de 2025, a economia perdeu fôlego com consumidores mais cautelosos e um aumento do déficit comercial devido à corrida para importar produtos antes das tarifas.\n> 2.  **Impacto no PIB:** A estimativa inicial do governo dos EUA para o PIB do primeiro trimestre de 2025 indicou um crescimento a uma taxa anualizada de apenas 0,4%, o ritmo mais fraco em quase três anos. Alguns economistas reduziram drasticamente suas estimativas do PIB devido a um aumento no déficit do comércio de mercadorias. Uma notícia da CNN Brasil relatou uma contração no primeiro trimestre, prejudicada por importações antecipadas para evitar tarifas mais altas.\n> 3.  **Cautela Empresarial:** Empresas têm se mostrado mais cautelosas em relação a novos gastos, aguardando clareza sobre tarifas, acordos comerciais e política tributária.\n> 4.  **Risco de Recessão:** O FMI aumentou o risco de recessão para a economia dos EUA de 25% para 40% devido à guerra comercial. O FMI também estima que o crescimento nos Estados Unidos diminua para 1,8%, inferior ao projetado anteriormente, devido à incerteza política e tensões comerciais.\n> 5.  **Tensões Comerciais:** As tarifas levaram a retaliações de outros países, como a China, aumentando as tensões no comércio internacional.\n> \n> \n"
          },
          "metadata": {}
        },
        {
          "output_type": "stream",
          "name": "stdout",
          "text": [
            "--------------------------------------------------------------\n",
            "\n",
            "--- 📝 Resultado do Agente 2 (Verificador de Fontes) ---\n",
            "\n"
          ]
        },
        {
          "output_type": "display_data",
          "data": {
            "text/plain": [
              "<IPython.core.display.Markdown object>"
            ],
            "text/markdown": "> Okay, com base nas informações fornecidas, vou verificar as fontes que estão sendo usadas para embasar as afirmações sobre o impacto das tarifas dos EUA na economia americana. As principais alegações são:\n> \n> *   Desaceleração econômica dos EUA antes do impacto total das tarifas.\n> *   Impacto negativo no PIB do primeiro trimestre de 2025.\n> *   Cautela empresarial devido à incerteza sobre tarifas e políticas.\n> *   Aumento do risco de recessão, conforme avaliação do FMI.\n> *   Tensões comerciais internacionais devido a retaliações tarifárias.\n> \n> Para verificar essas alegações, focarei em identificar as fontes originais das notícias e relatórios, avaliar sua credibilidade e buscar confirmação em outras fontes confiáveis.\n> \n> **Próximos passos:**\n> \n> 1.  **Identificar as fontes primárias:** Buscar as notícias e relatórios originais que mencionam a desaceleração econômica, o impacto no PIB, a cautela empresarial, a avaliação do FMI e as tensões comerciais.\n> 2.  **Analisar a credibilidade das fontes:** Avaliar a reputação dos veículos de notícias, a expertise dos economistas citados e a metodologia dos relatórios.\n> 3.  **Buscar confirmação em outras fontes:** Verificar se outras fontes de notícias, instituições financeiras e especialistas confirmam as alegações e os dados apresentados.\n> \n> Com base nos resultados da pesquisa, aqui está uma análise das fontes e das alegações sobre o impacto das tarifas dos EUA:\n> \n> **1. Desaceleração Econômica e Impacto no PIB:**\n> \n> *   **Fontes:** CNN Brasil, Money Times, SAPO, Forbes.\n> *   **Análise:** Várias fontes de notícias, incluindo a CNN Brasil e Money Times, relatam uma desaceleração na economia dos EUA em 2025, com algumas indicando uma contração no primeiro trimestre. A CNN Brasil atribui essa contração, em parte, ao aumento das importações pelas empresas que buscavam evitar as tarifas de Trump.\n> *   **Credibilidade:** A CNN Brasil é uma fonte de notícias amplamente reconhecida. O Money Times é um portal de notícias de economia e finanças.\n> *   **Confirmação:** A desaceleração econômica e o impacto no PIB são confirmados por outras fontes, como a Forbes, que cita economistas da Reuters.\n> \n> **2. Cautela Empresarial:**\n> \n> *   **Fontes:** CNN Brasil, Forbes.\n> *   **Análise:** As notícias indicam que as empresas estão mais cautelosas em relação a novos gastos devido à incerteza em torno das tarifas, acordos comerciais e políticas tributárias.\n> *   **Credibilidade:** As fontes são geralmente confiáveis, como mencionado acima.\n> *   **Confirmação:** A Forbes corrobora essa alegação, mencionando que economistas consultados concordam que as tarifas prejudicaram a confiança das empresas.\n> \n> **3. Risco de Recessão (FMI):**\n> \n> *   **Fontes:** CNN Brasil, SAPO, BB InvesTalk, ISTOÉ DINHEIRO.\n> *   **Análise:** O FMI (Fundo Monetário Internacional) aumentou o risco de recessão para a economia dos EUA devido à guerra comercial. O FMI também reduziu suas projeções de crescimento para os EUA.\n> *   **Credibilidade:** O FMI é uma instituição financeira internacional respeitada.\n> *   **Confirmação:** Várias fontes de notícias, incluindo CNN Brasil, SAPO, BB InvesTalk e ISTOÉ DINHEIRO, relatam a avaliação do FMI.\n> \n> **4. Tensões Comerciais:**\n> \n> *   **Fontes:** CNN Brasil, UFF, Me Explica.\n> *   **Análise:** As tarifas levaram a retaliações de outros países, como a China, aumentando as tensões no comércio internacional.\n> *   **Credibilidade:** As fontes são geralmente confiáveis, como mencionado acima.\n> *   **Confirmação:** A UFF e o portal Me Explica também relatam as tensões comerciais e as retaliações tarifárias.\n> \n> **Conclusão:**\n> \n> Com base nas fontes verificadas, as tarifas dos EUA parecem estar tendo um impacto misto na economia americana. Há evidências de desaceleração econômica, cautela empresarial e aumento do risco de recessão, conforme avaliado pelo FMI. As tarifas também levaram a tensões comerciais internacionais. Embora algumas fontes sugiram que as tarifas visam proteger a indústria americana e reduzir os déficits comerciais, outras indicam que os efeitos negativos superam os benefícios.\n> \n"
          },
          "metadata": {}
        },
        {
          "output_type": "stream",
          "name": "stdout",
          "text": [
            "--------------------------------------------------------------\n",
            "\n",
            "--- 📝 Resultado do Agente 3 (Verificador de Conteúdo) ---\n",
            "\n"
          ]
        },
        {
          "output_type": "display_data",
          "data": {
            "text/plain": [
              "<IPython.core.display.Markdown object>"
            ],
            "text/markdown": "> Com base nas informações apresentadas, aqui está uma avaliação do conteúdo sobre o impacto das tarifas dos EUA na economia americana:\n> \n> *   **Linguagem e Estilo:** O texto apresenta informações de forma clara e objetiva, sem aparentes sofismas ou técnicas de persuasão manipuladoras. Não foram identificados erros de ortografia ou gramática. A distinção entre fatos e opiniões parece clara, com as opiniões sendo atribuídas a economistas e ao FMI.\n> *   **Contexto e Evidências:** A data das informações (início de 2025) é relevante para o contexto da pergunta sobre o impacto atual das tarifas. As fontes citadas (CNN Brasil, FMI) são geralmente confiáveis, mas seria importante verificar as fontes originais para confirmar a precisão dos dados.\n> *   **Coerência:** As informações apresentadas são coerentes entre si, mostrando um impacto misto, mas predominantemente negativo, das tarifas na economia dos EUA, incluindo desaceleração econômica, impacto no PIB, cautela empresarial e aumento do risco de recessão.\n> \n> No entanto, para uma análise mais completa, seria útil investigar os seguintes pontos:\n> \n> *   **Fontes:** Verificar as fontes originais das notícias e relatórios mencionados para garantir a precisão e o contexto completo das informações.\n> *   **Setores Específicos:** Analisar o impacto das tarifas em setores específicos da economia dos EUA (agricultura, indústria, tecnologia, etc.) para obter uma visão mais detalhada.\n> *   **Medidas Compensatórias:** Investigar se o governo dos EUA implementou medidas para mitigar os impactos negativos das tarifas e avaliar a eficácia dessas medidas.\n> \n> \n"
          },
          "metadata": {}
        },
        {
          "output_type": "stream",
          "name": "stdout",
          "text": [
            "--------------------------------------------------------------\n",
            "\n",
            "--- 📝 Resultado do Agente 4 (Agências de Fact-Checking) ---\n",
            "\n"
          ]
        },
        {
          "output_type": "display_data",
          "data": {
            "text/plain": [
              "<IPython.core.display.Markdown object>"
            ],
            "text/markdown": "> A análise sobre se as tarifas dos EUA favorecerão ou não a sua economia é complexa e multifacetada, com diferentes especialistas e instituições apresentando visões diversas.\n> \n> **Visão Geral dos Impactos:**\n> \n> *   **Impacto Negativo no Curto Prazo:** Alguns economistas apontam que, no curto prazo, as tarifas podem ter um impacto negativo na economia dos EUA. Isso ocorre porque as empresas americanas podem enfrentar custos mais altos devido a tarifas sobre matérias-primas e componentes importados, o que pode prejudicar sua competitividade. Além disso, as tarifas podem levar a um aumento dos preços para os consumidores americanos.\n> *   **Potencial para Impacto Negativo:** Kellie Meiman Hock, conselheira sênior da McLarty Associates, avalia que o impacto econômico das tarifas impostas pelo governo americano está apenas começando e tende a se intensificar, com os consumidores americanos já sentindo os efeitos das medidas recíprocas.\n> *   **Impactos Complexos e Incertos:** A ata de uma reunião do Banco Central destaca que o Brasil parece menos afetado pelas novas tarifas comerciais dos Estados Unidos do que outros países, mas que o país ainda sente o impacto da medida em função do cenário global adverso. O choque de tarifas e o choque de incerteza, apesar de todas as tentativas de mensuração, ainda são de impacto bastante incerto.\n> *   **Desaceleração Econômica:** A economia dos EUA já mostra sinais de desaceleração antes mesmo do impacto total das tarifas de Trump, refletindo a cautela dos consumidores e incertezas comerciais.\n> *   **Oportunidades para Outros Países:** Alguns especialistas argumentam que a crise gerada pelas tarifas pode criar oportunidades para outros países, como o Brasil, expandirem suas exportações.\n> \n> **Visões de Agências de Fact-Checking e Outras Fontes:**\n> \n> *   **Estadão Verifica:** Segundo Schwartsman, as tarifas de Trump são um instrumento errado para um problema que não existe, o que pode levar a uma perda de competitividade para a economia americana. Ele também aponta que a confiança na economia americana tomou um golpe severo.\n> *   **CNN Brasil:** Fernando Siqueira, da Eleven Financial, comenta que o impacto das tarifas nos Estados Unidos tem sido negativo, principalmente no curto prazo, com um impacto negativo no PIB devido ao aumento das importações em antecipação às tarifas.\n> *   **UFMG:** Um estudo da UFMG aponta que a guerra tarifária pode resultar em uma queda de 0,16% no PIB global, com os Estados Unidos enfrentando uma diminuição de US$92,7 bilhões (0,48%) em seu PIB.\n> *   **Outras fontes:** Outros especialistas e institutos de pesquisa econômica alertam que, embora as tarifas de Trump possam estimular a produção interna, os efeitos no curto prazo devem ser aumento de preços e menor crescimento econômico.\n> \n> **Outras Considerações:**\n> \n> *   **Guerra Comercial:** A imposição de tarifas pode levar a retaliações por parte de outros países, resultando em uma guerra comercial que prejudica as cadeias de suprimentos globais e reduz a previsibilidade dos mercados.\n> *   **Risco de Recessão:** Com o aumento das tarifas, grandes bancos estão revisando suas projeções e elevando o risco de uma recessão nos Estados Unidos.\n> *   **Impacto Setorial:** Embora o impacto geral na economia brasileira possa ser moderado, alguns setores, como o agronegócio, o alumínio e o aço, podem ser significativamente afetados.\n> *   **Efeitos a Longo Prazo:** O impacto a longo prazo das políticas tarifárias ainda é incerto, mas tarifas retaliatórias por países afetados já complicaram o comércio global. Altos níveis de dívida também podem corroer a confiança dos investidores, levando a maiores custos de empréstimos e redução do crescimento econômico.\n> *   **Negociações e Acordos:** As negociações futuras entre os EUA e outros países serão cruciais para determinar o rumo das relações comerciais e o impacto na economia global.\n> \n> Em resumo, a questão de se as tarifas dos EUA favorecerão ou não a sua economia é complexa e depende de uma variedade de fatores, incluindo a magnitude das tarifas, as respostas de outros países, e a capacidade das empresas americanas de se adaptarem às novas condições. Embora alguns argumentem que as tarifas podem proteger empregos e fortalecer as indústrias nacionais, outros alertam para os riscos de aumento de preços, retaliação comercial e desaceleração econômica.\n> \n"
          },
          "metadata": {}
        },
        {
          "output_type": "stream",
          "name": "stdout",
          "text": [
            "--------------------------------------------------------------\n",
            "\n",
            "--- 📝 Resultado do Agente 5 (Organizador do Resultado da Verificação) ---\n",
            "\n"
          ]
        },
        {
          "output_type": "display_data",
          "data": {
            "text/plain": [
              "<IPython.core.display.Markdown object>"
            ],
            "text/markdown": "> Com base nas análises dos agentes, a alegação de que as tarifas dos EUA favorecerão a sua economia é **Insustentável**.\n> \n> **Justificativa:**\n> \n> *   **Impacto Misto e Predominantemente Negativo:** As tarifas parecem ter um impacto misto, mas predominantemente negativo, na economia dos EUA. Evidências apontam para uma desaceleração econômica, cautela empresarial e aumento do risco de recessão.\n> *   **Fontes Confiáveis:** As informações são sustentadas por fontes de notícias confiáveis como CNN Brasil, Forbes e instituições financeiras como o FMI.\n> *   **Tensões Comerciais:** As tarifas levaram a retaliações de outros países, aumentando as tensões no comércio internacional.\n> *   **Visões Diversas:** Especialistas e instituições apresentam visões diversas, mas a maioria indica que os efeitos negativos superam os benefícios no curto prazo.\n> *   **Risco de Recessão:** O FMI aumentou o risco de recessão para a economia dos EUA devido à guerra comercial.\n> *   **Impacto no PIB:** Há relatos de impacto negativo no PIB do primeiro trimestre de 2025 devido a importações antecipadas para evitar tarifas mais altas.\n> \n> **Fontes Relevantes:**\n> \n> *   CNN Brasil\n> *   Forbes\n> *   Fundo Monetário Internacional (FMI)\n> *   Estadão Verifica\n> *   UFMG\n> \n"
          },
          "metadata": {}
        },
        {
          "output_type": "stream",
          "name": "stdout",
          "text": [
            "--------------------------------------------------------------\n"
          ]
        }
      ]
    }
  ]
}