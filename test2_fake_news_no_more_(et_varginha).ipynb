{
  "nbformat": 4,
  "nbformat_minor": 0,
  "metadata": {
    "colab": {
      "provenance": [],
      "include_colab_link": true
    },
    "kernelspec": {
      "name": "python3",
      "display_name": "Python 3"
    },
    "language_info": {
      "name": "python"
    }
  },
  "cells": [
    {
      "cell_type": "markdown",
      "metadata": {
        "id": "view-in-github",
        "colab_type": "text"
      },
      "source": [
        "<a href=\"https://colab.research.google.com/github/cezarviana/fake-news-no-more/blob/main/test2_fake_news_no_more_(et_varginha).ipynb\" target=\"_parent\"><img src=\"https://colab.research.google.com/assets/colab-badge.svg\" alt=\"Open In Colab\"/></a>"
      ]
    },
    {
      "cell_type": "code",
      "source": [
        "%pip -q install google-genai\n",
        "\n",
        "\n",
        "# Configura a API Key do Google Gemini\n",
        "\n",
        "import os\n",
        "from google.colab import userdata\n",
        "\n",
        "os.environ[\"GOOGLE_API_KEY\"] = userdata.get('GOOGLE_API_KEY')\n",
        "\n",
        "\n",
        "# Configura o cliente da SDK do Gemini\n",
        "\n",
        "from google import genai\n",
        "\n",
        "client = genai.Client()\n",
        "\n",
        "MODEL_ID = \"gemini-2.0-flash\"\n",
        "\n",
        "\n",
        "# Instalar Framework de agentes do Google ################################################\n",
        "!pip install -q google-adk\n",
        "\n",
        "\n",
        "from google.adk.agents import Agent\n",
        "from google.adk.runners import Runner\n",
        "from google.adk.sessions import InMemorySessionService\n",
        "from google.adk.tools import google_search\n",
        "from google.genai import types  # Para criar conteúdos (Content e Part)\n",
        "from datetime import date\n",
        "import textwrap # Para formatar melhor a saída de texto\n",
        "from IPython.display import display, Markdown # Para exibir texto formatado no Colab\n",
        "import requests # Para fazer requisições HTTP\n",
        "import warnings\n",
        "\n",
        "warnings.filterwarnings(\"ignore\")\n",
        "\n",
        "\n",
        "# Função auxiliar que envia uma mensagem para um agente via Runner e retorna a resposta final\n",
        "def call_agent(agent: Agent, message_text: str) -> str:\n",
        "    # Cria um serviço de sessão em memória\n",
        "    session_service = InMemorySessionService()\n",
        "    # Cria uma nova sessão (você pode personalizar os IDs conforme necessário)\n",
        "    session = session_service.create_session(app_name=agent.name, user_id=\"user1\", session_id=\"session1\")\n",
        "    # Cria um Runner para o agente\n",
        "    runner = Runner(agent=agent, app_name=agent.name, session_service=session_service)\n",
        "    # Cria o conteúdo da mensagem de entrada\n",
        "    content = types.Content(role=\"user\", parts=[types.Part(text=message_text)])\n",
        "\n",
        "    final_response = \"\"\n",
        "    # Itera assincronamente pelos eventos retornados durante a execução do agente\n",
        "    for event in runner.run(user_id=\"user1\", session_id=\"session1\", new_message=content):\n",
        "        if event.is_final_response():\n",
        "          for part in event.content.parts:\n",
        "            if part.text is not None:\n",
        "              final_response += part.text\n",
        "              final_response += \"\\n\"\n",
        "    return final_response\n",
        "\n",
        "\n",
        "# Função auxiliar para exibir texto formatado em Markdown no Colab\n",
        "def to_markdown(text):\n",
        "  text = text.replace('•', '  *')\n",
        "  return Markdown(textwrap.indent(text, '> ', predicate=lambda _: True))\n",
        "\n",
        "\n",
        "##########################################\n",
        "# --- Agente 1: Buscador de Notícias --- #\n",
        "##########################################\n",
        "def agente_buscador(topico, data_de_hoje):\n",
        "    buscador = Agent(\n",
        "        name=\"agente_buscador\",\n",
        "        model=\"gemini-2.0-flash\",\n",
        "        instruction=\"\"\"\n",
        "        Você é parte de um sistema colaborativo de verificação de notícias. Siga rigorosamente as instruções específicas da sua função para analisar o tópico fornecido e contribuir para a determinação da sua veracidade.\n",
        "        Sua função é ser um assistente de pesquisa. A sua tarefa é usar a ferramenta de busca google (google_search) para recuperar as últimas notícias de lançamentos muito relevantes sobre o tópico abaixo.\n",
        "        Priorize fontes jornalísticas reconhecidas e com boa reputação.\n",
        "        Selecione no máximo 5 lançamentos que demonstrem relevância (baseada na cobertura e qualidade da fonte) e sejam os mais atuais possíveis, desde que sejam fontes jornalísticas reconhecidas e com boa reputação.\n",
        "        Para cada lançamento relevante, forneça o título, um breve resumo e o **link direto para a notícia**.\n",
        "        Se o tópico não possuir 5 notícias a seu respeito, apresente somente as encontradas. Sem adicionar outras notícias com termos parecidos e que não tenham relação direta com o tópico.\n",
        "        Se o tópico gerar pouca cobertura noticiosa ou reações limitadas, sinalize essa baixa relevância como um possível indicativo para considerar outros tópicos.\n",
        "        Esses lançamentos relevantes devem ser atuais, de no máximo um mês antes da data de hoje.\n",
        "        \"\"\",\n",
        "        description=\"Agente que busca de notícias no Google Search sobre o tópico\",\n",
        "        tools=[google_search]\n",
        "    )\n",
        "\n",
        "    entrada_do_agente_buscador = f\"Tópico: {topico}\\nData de hoje: {data_de_hoje}\"\n",
        "    # Executa o agente\n",
        "    lancamentos_buscados = call_agent(buscador, entrada_do_agente_buscador)\n",
        "    return lancamentos_buscados\n",
        "\n",
        "\n",
        "################################################\n",
        "# --- Agente 2: Verificador de Fontes --- #\n",
        "################################################\n",
        "def agente_verificador_fontes(topico, lancamentos_buscados):\n",
        "    verificador_fontes = Agent(\n",
        "        name=\"agente_verificador_fontes\",\n",
        "        model=\"gemini-2.0-flash\",\n",
        "        # Inserir as instruções do Agente Verificador de Fontes #################################################\n",
        "        instruction=\"\"\"\n",
        "        Você é parte de um sistema colaborativo de verificação de notícias. Siga rigorosamente as instruções específicas da sua função para analisar o tópico fornecido e contribuir para a determinação da sua veracidade.\n",
        "        Sua função é ser um verificador de fontes, especialista em fact-checking.\n",
        "        Para cada fonte principal identificada:\n",
        "        - Determine se o site ou canal é conhecido e geralmente considerado confiável.\n",
        "        - Localize e examine a seção 'Sobre nós' (ou equivalente) para entender a missão, equipe e possíveis vieses do site.\n",
        "        - Verifique se outras fontes confiáveis corroboram as informações apresentadas pela fonte principal. Liste as fontes que confirmam os achados.\n",
        "        \"\"\",\n",
        "        description=\"Agente que verifica as fontes levantadas\",\n",
        "        tools=[google_search]\n",
        "    )\n",
        "\n",
        "    entrada_do_agente_verificador_fontes = f\"Tópico:{topico}\\nLançamentos buscados: {lancamentos_buscados}\"\n",
        "    # Executa o agente\n",
        "    verificacao_fontes = call_agent(verificador_fontes, entrada_do_agente_verificador_fontes)\n",
        "    return verificacao_fontes\n",
        "\n",
        "\n",
        "################################################\n",
        "# --- Agente 3: Verificador de Conteúdo --- #\n",
        "################################################\n",
        "def agente_verificador_conteudo(topico, lancamentos_buscados):\n",
        "    verificador_conteudo = Agent(\n",
        "        name=\"agente_verificador_conteudo\",\n",
        "        model=\"gemini-2.0-flash\",\n",
        "        # Inserir as instruções do Agente Verificador de Conteúdo #################################################\n",
        "        instruction=\"\"\"\n",
        "        Você é parte de um sistema colaborativo de verificação de notícias. Siga rigorosamente as instruções específicas da sua função para analisar o tópico fornecido e contribuir para a determinação da sua veracidade.\n",
        "        Sua função é ser um verificador de conteúdo, especialista em fact-checking.\n",
        "        Examine o conteúdo das notícias e informações relacionadas ao tópico.\n",
        "        Linguagem e Estilo:\n",
        "        - Avalie se há uso de sofismos ou outras técnicas de persuasão manipuladoras.\n",
        "        - Identifique erros de ortografia e gramática que possam indicar falta de profissionalismo ou revisão.\n",
        "        - Distinga claramente entre fatos apresentados e opiniões, verificando se as opiniões são devidamente atribuídas.\n",
        "        Contexto e Evidências:\n",
        "        - Verifique se a data da informação é relevante para o contexto atual.\n",
        "        - Se houver imagens, utilize a busca reversa (Google Imagens) para verificar sua autenticidade e se foram usadas em outros contextos enganosos.\n",
        "        Coerência:\n",
        "        - Avalie a lógica interna do conteúdo e sua coerência com informações de outras fontes.\n",
        "        \"\"\",\n",
        "        description=\"Agente que verifica o conteúdo das notícias levantadas\",\n",
        "        tools=[google_search]\n",
        "    )\n",
        "\n",
        "    entrada_do_agente_verificador_conteudo = f\"Tópico:{topico}\\nLançamentos buscados: {lancamentos_buscados}\"\n",
        "    # Executa o agente\n",
        "    verificacao_conteudo = call_agent(verificador_conteudo, entrada_do_agente_verificador_conteudo)\n",
        "    return verificacao_conteudo\n",
        "\n",
        "\n",
        "##########################################\n",
        "# --- Agente 4: Agência de Fact-Checking --- #\n",
        "##########################################\n",
        "def agente_verificador_fatos(topico, data_de_hoje):\n",
        "    verificador_fatos = Agent(\n",
        "        name=\"agente_verificador_fatos\",\n",
        "        model=\"gemini-2.0-flash\",\n",
        "        instruction=\"\"\"\n",
        "        Você é parte de um sistema colaborativo de verificação de notícias. Siga rigorosamente as instruções específicas da sua função para analisar o tópico fornecido e contribuir para a determinação da sua veracidade.\n",
        "        Sua tarefa é verificar se o tópico/afirmação já foi alvo de checagem por agências de fact-checking confiáveis, através da  busca google (google_search), priorizando as verificações mais recentes sobre o tópico.\n",
        "        As agências de fact-checking a serem consultadas de acordo com o tópico serão as indicadas abaixo:\n",
        "        - No Brasil:\n",
        "          - Aos Fatos;\n",
        "          - Lupa;\n",
        "          - UOL Confere;\n",
        "          - Estadão Verifica;\n",
        "          - Fato ou Fake (G1);\n",
        "          - Boatos.org;\n",
        "          - Agência Pública - Truco no Congresso;\n",
        "          - Comprova;\n",
        "          - E-farsas;\n",
        "          - É isso Mesmo? (O Globo);\n",
        "          - Portal EBC - Checagem;\n",
        "        - Internacionais com atuação ou relevância no Brasil:\n",
        "          - AFP Fact Check;\n",
        "          - Reuters Fact Check;\n",
        "          - Snopes;\n",
        "          - PolitiFact;\n",
        "          - FactCheck.org;\n",
        "        - Organizações e Redes Internacionais:\n",
        "          - International Fact-Checking Network (IFCN);\n",
        "          - European Fact-Checking Standards Network (EFCSN);\n",
        "          - Duke Reporters' Lab;\n",
        "        Informe se o tópico foi encontrado em alguma das agências de fact-checking e qual foi a conclusão dessas agências (verdadeiro, falso, enganoso, etc.).\n",
        "        Se encontrado, cite a fonte da agência de fact-checking e um breve resumo da sua análise.\n",
        "        \"\"\",\n",
        "        description=\"Agente que verifica o que agências de fact-checking dizem a respeito do tópico\",\n",
        "        tools=[google_search]\n",
        "    )\n",
        "\n",
        "    entrada_do_agente_verificador_fatos = f\"Tópico: {topico}\\nData de hoje: {data_de_hoje}\"\n",
        "    # Executa o agente\n",
        "    verificacao_fatos = call_agent(verificador_fatos, entrada_do_agente_verificador_fatos)\n",
        "    return verificacao_fatos\n",
        "\n",
        "\n",
        "###############################################\n",
        "# --- Agente 5: Organizador do Resultado da Verificação --- #\n",
        "################################################\n",
        "def agente_organizador_resultado(topico, lancamentos_buscados, verificacao_fontes, verificacao_conteudo, verificacao_fatos):\n",
        "    organizador = Agent(\n",
        "        name=\"agente_organizador_resultado\",\n",
        "        model=\"gemini-2.0-flash\",\n",
        "        # Inserir as instruções do Agente de Resultados #################################################\n",
        "        instruction=\"\"\"\n",
        "        Você é parte de um sistema colaborativo de verificação de notícias. Siga rigorosamente as instruções específicas da sua função para analisar o tópico fornecido e contribuir para a determinação da sua veracidade.\n",
        "        Sua função é organizar os resultados com base nas análises dos outros agentes sobre o tópico, e determinar a veracidade da informação.\n",
        "        Apresente um veredicto claro: Verdadeiro, Falso, Enganoso, Insustentável, etc.\n",
        "        Justifique sua conclusão de forma concisa, utilizando as evidências e os resultados fornecidos pelos outros agentes (agente_buscador, agente_verificador_fontes, agente_verificador_conteudo e agente_verificador_fatos).\n",
        "        Preste atenção aos lançamentos buscados e inclua os **links das fontes relevantes** no resultado final, se disponíveis.\n",
        "        Inclua os **links das fontes relevantes formatados em Markdown ([Texto do Link](URL do Link))** no resultado final, se disponíveis.\n",
        "        Liste as fontes mais relevantes (sites de notícias confiáveis, agências de fact-checking) que sustentam sua conclusão.\n",
        "\n",
        "        Padrão de Resultado:\n",
        "        - Escrever um resumo da verifição do tópico neste ponto.\n",
        "        - Parecer: VERDADEIRO, FALSO, ENGANOSO, INSUSTENTÁVEL, etc.\n",
        "        - Justificativas:\n",
        "          - Justificativa 1.\n",
        "          - Justificativa 2.\n",
        "          - Justificativa 3.\n",
        "          - Justificativa n.\n",
        "        - Fontes relevantes:\n",
        "          - ([Texto do Link da Fonte 1](URL do Link da Fonte 1)).\n",
        "          - ([Texto do Link da Fonte 2](URL do Link da Fonte 2)).\n",
        "          - ([Texto do Link da Fonte 3](URL do Link da Fonte 3)).\n",
        "          - ([Texto do Link da Fonte n](URL do Link da Fonte n)).\n",
        "        \"\"\",\n",
        "        description=\"Agente que organiza os resultados da verificação\",\n",
        "        tools=[google_search]\n",
        "    )\n",
        "\n",
        "    entrada_do_agente_organizador_resultado = f\"Tópico:{topico}\\nLançamentos buscados:{lancamentos_buscados}\\nVerificação fontes:{verificacao_fontes}\\nVerificação conteúdo:{verificacao_conteudo}\\nVerificação fatos:{verificacao_fatos}\"\n",
        "    # Executa o agente\n",
        "    resultado = call_agent(organizador,  entrada_do_agente_organizador_resultado)\n",
        "    return resultado"
      ],
      "metadata": {
        "id": "UCCbECexLk_h"
      },
      "execution_count": 11,
      "outputs": []
    },
    {
      "cell_type": "code",
      "source": [
        "data_de_hoje = date.today().strftime(\"%d/%m/%Y\")\n",
        "\n",
        "print(\"🚀 Iniciando o Sistema de Verificação de Fatos com 5 Agentes 🚀\")\n",
        "\n",
        "# --- Obter o Tópico do Usuário ---\n",
        "topico = input(\"❓ Por favor, digite o TÓPICO sobre o qual você quer saber a veracidade: \")\n",
        "\n",
        "# Inserir lógica do sistema de agentes ################################################\n",
        "if not topico:\n",
        "    print(\"Você esqueceu de digitar o tópico!\")\n",
        "else:\n",
        "    print(f\"Maravilha! Vamos pesquisar sobre a veracidade a respeito de {topico}\")\n",
        "\n",
        "    lancamentos_buscados = agente_buscador(topico, data_de_hoje)\n",
        "    print(\"\\n--- 📝 Resultado do Agente 1 (Buscador de Notícias) ---\\n\")\n",
        "    display(to_markdown(lancamentos_buscados))\n",
        "    print(\"--------------------------------------------------------------\")\n",
        "\n",
        "    verificacao_fontes = agente_verificador_fontes(topico, lancamentos_buscados)\n",
        "    print(\"\\n--- 📝 Resultado do Agente 2 (Verificador de Fontes) ---\\n\")\n",
        "    display(to_markdown(verificacao_fontes))\n",
        "    print(\"--------------------------------------------------------------\")\n",
        "\n",
        "    verificacao_conteudo = agente_verificador_conteudo(topico, lancamentos_buscados)\n",
        "    print(\"\\n--- 📝 Resultado do Agente 3 (Verificador de Conteúdo) ---\\n\")\n",
        "    display(to_markdown(verificacao_conteudo))\n",
        "    print(\"--------------------------------------------------------------\")\n",
        "\n",
        "    verificacao_fatos = agente_verificador_fatos(topico, data_de_hoje)\n",
        "    print(\"\\n--- 📝 Resultado do Agente 4 (Agências de Fact-Checking) ---\\n\")\n",
        "    display(to_markdown(verificacao_fatos))\n",
        "    print(\"--------------------------------------------------------------\")\n",
        "\n",
        "    resultado = agente_organizador_resultado(topico, lancamentos_buscados, verificacao_fontes, verificacao_conteudo, verificacao_fatos)\n",
        "    print(\"\\n--- 📝 Resultado do Agente 5 (Organizador do Resultado da Verificação) ---\\n\")\n",
        "    display(to_markdown(resultado))\n",
        "    print(\"--------------------------------------------------------------\")"
      ],
      "metadata": {
        "colab": {
          "base_uri": "https://localhost:8080/",
          "height": 1000
        },
        "id": "6xzI6LKzxxnN",
        "outputId": "9ac268b9-0c24-46ff-bb3e-fc9ff65f7ce2"
      },
      "execution_count": 13,
      "outputs": [
        {
          "output_type": "stream",
          "name": "stdout",
          "text": [
            "🚀 Iniciando o Sistema de Verificação de Fatos com 5 Agentes 🚀\n",
            "❓ Por favor, digite o TÓPICO sobre o qual você quer saber a veracidade: Et de Varginha existiu?\n",
            "Maravilha! Vamos pesquisar sobre a veracidade a respeito de Et de Varginha existiu?\n",
            "\n",
            "--- 📝 Resultado do Agente 1 (Buscador de Notícias) ---\n",
            "\n"
          ]
        },
        {
          "output_type": "display_data",
          "data": {
            "text/plain": [
              "<IPython.core.display.Markdown object>"
            ],
            "text/markdown": "> Para fornecer informações precisas e relevantes sobre o \"ET de Varginha\", realizarei uma pesquisa no Google para encontrar as notícias mais recentes e relevantes sobre o tema.\n> \n> \n> Com base nas notícias encontradas, aqui estão alguns pontos relevantes sobre o caso do \"ET de Varginha\":\n> \n> 1.  **O caso do ET de Varginha completa 29 anos em 2025:** A cidade de Varginha se tornou um destino de turismo ufológico após o incidente de 1996. O evento é considerado um dos principais fenômenos extraterrestres do planeta. A cidade inaugurou um memorial do ET com planetário e exposições sobre os avistamentos. ([Tempo.com](https://vertexaisearch.cloud.google.com/grounding-api-redirect/AbF9wXGADnhzbBkxzx5m1H8cRzaUWME1oyMRXZoxUk7GGyHg2-QZZ7T7Hcf086rVfy3zdeAKEKwCHG0JvKrlBBJ2bIASN1vNvUHo16fErm1yjip2iKtkBm6_jM1AfagINCrR8yZd_r_JmL1652_D4aSdY_GVHug1dy3NS_FLLMqaJPRK2mWT4J82QKmvfYy377mNPhdDnZqAxwf66cQ-vLBsQu51hxOzJjnmK9jt6iAP_ijnP1fr88Za3fure1qOZoiyx8jDN1Y2us9Tn4Ar7ivxvRU=))\n> 2.  **Prefeitura de Varginha estuda registrar o caso como Patrimônio Cultural Imaterial:** Em março de 2023, o Conselho do Patrimônio Cultural de Varginha acolheu pedidos para estudos que podem embasar o registro do \"Caso ET de Varginha\" como patrimônio imaterial. A cidade se tornou conhecida mundialmente como a \"cidade do ET\" devido aos relatos de avistamentos de OVNIs e possíveis seres não humanos. ([CNN Brasil](https://vertexaisearch.cloud.google.com/grounding-api-redirect/AbF9wXHyZ8imtNH6L55JnSrBtezWqnmnRjLq_7FSYe0NoxSFIEg3B7eN4LeN3KgF3VaQVXutVuTWcceBUn-OOnC-V_jaNa9CMv4XhtQWaNWLVNRlDFQ2j0mxR0O6btzRVbaE0hcA6nBfAQ_8uKp5KbSfcws5-SyBFVAExJVI6mcxCZpLlLAlx9H9W8SfZ9T6yR1W3JR5ErGlpoP5MbTyl92eabLmBXMy), [Prefeitura de Varginha](https://vertexaisearch.cloud.google.com/grounding-api-redirect/AbF9wXEHl5fw1w82iS6OyCgHF3IidDsJ47-UUVmUdPjNuUOFdLJw8ULiGbSYF_Zp2e3tLJ3T-xL5Z621DKwZulV1HzS5PC1RhSkMWU0zNhGOd7nUsnl273bPxvrp1HkO-G5GuttRovcnbN1PZ7tDfV1WUIynF8Z1PKWUCz0Z_ltRw91AihnpVEVRT7lt2dji3VJW9G8_GUizcQrrtGWvJnzPu3UpgHeNPNhXWEN08M-2D7LnfPW5UnN_DV_RmiVx5sBOmHAsUtA4dmERAf0wq9YcM0titkMxOHBl1mxYnoqRRJI2YJF6AwUKE9JOHfdgUw==))\n> 3.  **O Incidente de Varginha e a perspectiva local:** Apesar das investigações oficiais não terem encontrado evidências concretas, o incidente continua a ser discutido e explorado por entusiastas de OVNIs. O evento marcou a cidade, que incorporou o \"ET\" em sua identidade, turismo e mobiliário urbano. ([Conteúdo Aberto](https://vertexaisearch.cloud.google.com/grounding-api-redirect/AbF9wXF4ARuQwAB_6DP6GIfNeQtBF9rpIyEusPYxQaeoz_s_oTaGND1BVDUzBKFocakt_gswVHLohk5XiUnKmvgZLCfU6NUsK3WBkKGRgcR9kJMOQ5BNg0iG80kbwIfldHdva0DNv0OhxMe5LW-2qwLGs7GtzeikeudmIQ==))\n> 4.  **Documentário \"Moment of Contact\":** O cineasta James Fox lançou um documentário que mantém a história viva, fomentando discussões e novos relatos. ([Prefeitura de Varginha](https://vertexaisearch.cloud.google.com/grounding-api-redirect/AbF9wXEHl5fw1w82iS6OyCgHF3IidDsJ47-UUVmUdPjNuUOFdLJw8ULiGbSYF_Zp2e3tLJ3T-xL5Z621DKwZulV1HzS5PC1RhSkMWU0zNhGOd7nUsnl273bPxvrp1HkO-G5GuttRovcnbN1PZ7tDfV1WUIynF8Z1PKWUCz0Z_ltRw91AihnpVEVRT7lt2dji3VJW9G8_GUizcQrrtGWvJnzPu3UpgHeNPNhXWEN08M-2D7LnfPW5UnN_DV_RmiVx5sBOmHAsUtA4dmERAf0wq9YcM0titkMxOHBl1mxYnoqRRJI2YJF6AwUKE9JOHfdgUw==), [CNN Brasil](https://vertexaisearch.cloud.google.com/grounding-api-redirect/AbF9wXHyZ8imtNH6L55JnSrBtezWqnmnRjLq_7FSYe0NoxSFIEg3B7eN4LeN3KgF3VaQVXutVuTWcceBUn-OOnC-V_jaNa9CMv4XhtQWaNWLVNRlDFQ2j0mxR0O6btzRVbaE0hcA6nBfAQ_8uKp5KbSfcws5-SyBFVAExJVI6mcxCZpLlLAlx9H9W8SfZ9T6yR1W3JR5ErGlpoP5MbTyl92eabLmBXMy))\n> \n> É importante notar que, embora o caso tenha gerado grande interesse e continue a ser um tema popular, as evidências concretas da existência do \"ET de Varginha\" são limitadas a relatos e testemunhos, sem comprovação científica.\n> \n"
          },
          "metadata": {}
        },
        {
          "output_type": "stream",
          "name": "stdout",
          "text": [
            "--------------------------------------------------------------\n",
            "\n",
            "--- 📝 Resultado do Agente 2 (Verificador de Fontes) ---\n",
            "\n"
          ]
        },
        {
          "output_type": "display_data",
          "data": {
            "text/plain": [
              "<IPython.core.display.Markdown object>"
            ],
            "text/markdown": "> Para verificar a confiabilidade das fontes sobre o caso do \"ET de Varginha\", analisei cada uma delas conforme solicitado:\n> \n> **1. Tempo.com:**\n> \n> *   **Confiabilidade:** O Tempo.com é um site de notícias e informações meteorológicas. Geralmente, sites de meteorologia não são especializados em notícias sobre ufologia ou eventos extraterrestres.\n> *   **Seção \"Sobre nós\":** Não consegui encontrar uma seção \"Sobre nós\" que detalhe a missão, equipe e possíveis vieses do site especificamente para o link fornecido. No entanto, geralmente, sites de meteorologia focam em informações climáticas e não têm um viés específico em relação a tópicos como o \"ET de Varginha\".\n> *   **Corroboração:** A informação de que Varginha se tornou um destino de turismo ufológico e inaugurou um memorial do ET pode ser corroborada por outras fontes de notícias e turismo.\n> \n> **2. CNN Brasil:**\n> \n> *   **Confiabilidade:** A CNN Brasil é um известное veículo de notícias com reputação estabelecida.\n> *   **Seção \"Sobre nós\":** A CNN geralmente mantém padrões jornalísticos rigorosos, embora possa ter uma linha editorial específica em alguns casos. É importante verificar se a cobertura do caso do ET de Varginha é factual e equilibrada.\n> *   **Corroboração:** A informação sobre o estudo para registrar o caso como patrimônio imaterial e o documentário \"Moment of Contact\" pode ser encontrada em outras fontes de notícias confiáveis.\n> \n> **3. Prefeitura de Varginha (varginha.mg.gov.br):**\n> \n> *   **Confiabilidade:** O site da Prefeitura de Varginha é uma fonte primária para informações oficiais sobre a cidade.\n> *   **Seção \"Sobre nós\":** A prefeitura tem interesse em promover o turismo e a imagem da cidade, o que pode influenciar a forma como o caso é apresentado.\n> *   **Corroboração:** As informações sobre o estudo do patrimônio imaterial e o documentário devem ser verificadas com outras fontes independentes para garantir uma perspectiva equilibrada.\n> \n> **4. Conteúdo Aberto:**\n> \n> *   **Confiabilidade:** Não foi possível determinar a confiabilidade sem mais informações sobre o site \"Conteúdo Aberto\". É importante investigar a reputação do site, sua missão e possíveis vieses antes de considerar suas informações como totalmente confiáveis.\n> *   **Seção \"Sobre nós\":** Procurar a seção \"Sobre nós\" para entender a missão, equipe e possíveis vieses do site.\n> *   **Corroboração:** Verificar se outras fontes confiáveis corroboram as informações apresentadas pela fonte principal.\n> \n> **Conclusão:**\n> \n> *   As fontes mais confiáveis parecem ser a CNN Brasil e a Prefeitura de Varginha, embora esta última deva ser avaliada com atenção devido ao seu interesse em promover a cidade.\n> *   O Tempo.com pode ser usado para informações gerais sobre o turismo em Varginha, mas não como uma fonte primária sobre o caso do ET.\n> *   É necessário investigar a confiabilidade do \"Conteúdo Aberto\" antes de utilizar suas informações.\n> \n> Em geral, é importante comparar as informações de diferentes fontes e considerar a possível motivação ou viés de cada uma delas ao avaliar o caso do \"ET de Varginha\".\n> \n"
          },
          "metadata": {}
        },
        {
          "output_type": "stream",
          "name": "stdout",
          "text": [
            "--------------------------------------------------------------\n",
            "\n",
            "--- 📝 Resultado do Agente 3 (Verificador de Conteúdo) ---\n",
            "\n"
          ]
        },
        {
          "output_type": "display_data",
          "data": {
            "text/plain": [
              "<IPython.core.display.Markdown object>"
            ],
            "text/markdown": "> O caso do ET de Varginha é um evento que ocorreu em 1996 e que, em 2025, completa 29 anos. Apesar de não haver comprovação científica, o caso ganhou grande notoriedade e impulsionou o turismo ufológico na cidade de Varginha, que inaugurou um memorial do ET.\n> \n> Em 2023, a prefeitura de Varginha iniciou estudos para registrar o caso como Patrimônio Cultural Imaterial, devido à fama da cidade como a \"cidade do ET\". O Incidente de Varginha, embora sem evidências concretas, é continuamente explorado por entusiastas de OVNIs e faz parte da identidade da cidade, presente no turismo e mobiliário urbano.\n> \n> O documentário \"Moment of Contact\", do cineasta James Fox, mantém a história viva e fomenta discussões sobre o caso.\n> \n> Para complementar a resposta, pesquisei por notícias e informações adicionais sobre o caso do ET de Varginha:\n> \n> Com base nas notícias e informações encontradas, alguns pontos adicionais podem ser destacados:\n> \n> *   **Repercussão e Turismo:** O caso do ET de Varginha continua a atrair turistas e curiosos, solidificando Varginha como um destino singular no Brasil. A cidade investe em atrações turísticas temáticas, como o Memorial do ET, para manter a história viva e atrair visitantes.\n> *   **Registro como Patrimônio Imaterial:** Em maio de 2023, o Conselho Deliberativo Municipal do Patrimônio Cultural de Varginha aprovou o processo de registro do \"Caso do ET e a Identidade Varginhense\" como Patrimônio Cultural de Varginha.\n> *   **O caso em 2025:** Em janeiro de 2025, a cidade celebrou os 29 anos do caso com atividades especiais no Memorial do ET, reforçando o turismo local.\n> *   **Relatos e Testemunhos:** Três jovens (Liliane Silva, Valquíria Fátima Silva e Kátia Andrade Xavier) afirmaram ter visto uma criatura estranha com características específicas (pele marrom, olhos grandes e vermelhos, protuberâncias na cabeça) em um terreno baldio.\n> *   **Operação Militar:** Há relatos de uma operação militar para capturar seres extraterrestres após o avistamento. Um dos soldados envolvidos, Marco Eli Chereze, teria falecido dias depois devido a uma infecção generalizada de causa desconhecida.\n> \n> É importante ressaltar que, apesar da vasta cobertura e do interesse gerado, o caso do ET de Varginha permanece sem comprovação científica, sendo amplamente baseado em relatos e testemunhos.\n> \n"
          },
          "metadata": {}
        },
        {
          "output_type": "stream",
          "name": "stdout",
          "text": [
            "--------------------------------------------------------------\n",
            "\n",
            "--- 📝 Resultado do Agente 4 (Agências de Fact-Checking) ---\n",
            "\n"
          ]
        },
        {
          "output_type": "display_data",
          "data": {
            "text/plain": [
              "<IPython.core.display.Markdown object>"
            ],
            "text/markdown": "> Para verificar se a alegação sobre o ET de Varginha já foi alvo de checagem por agências de fact-checking, realizarei uma busca no Google utilizando termos relevantes e os nomes das agências de checagem de fatos.\n> \n> \n> Sim, o tópico do ET de Varginha já foi alvo de diversas checagens por agências de fact-checking e veículos de comunicação. As conclusões dessas análises geralmente apontam para a ausência de evidências concretas que sustentem a história da captura de um ser extraterrestre, tratando o caso como uma lenda urbana ou teoria da conspiração.\n> \n> **Exemplos de checagens e análises:**\n> \n> *   **Boatos.org:** Em 25 de janeiro de 2024, o Boatos.org publicou uma checagem desmentindo a veracidade de um vídeo que supostamente mostrava o ET de Varginha, classificando-o como boato. A análise destaca a falta de provas e a ausência de divulgação do vídeo na época em que a história ganhou notoriedade.\n> *   **E-farsas:** O site E-farsas publicou um artigo sobre o caso do ET de Varginha, revelando a verdade por trás da história e desmistificando as alegações de contato extraterrestre.\n> *   **UOL Confere:** O UOL Confere também abordou o caso, destacando que a história do ET de Varginha é um dos casos mais famosos de OVNIs no Brasil, mas que as autoridades locais e federais negam todas as afirmações de naves e seres extraterrestres.\n> *   **Estadão Verifica:** O Estadão Verifica não possui uma checagem específica sobre o ET de Varginha, mas o Estadão publicou notícias sobre o caso, como a matéria de 31 de março de 2023, que fala sobre a possibilidade de o \"ET de Varginha\" se tornar Patrimônio Cultural Imaterial da cidade.\n> \n> **Outras fontes relevantes:**\n> \n> *   **Superinteressante:** A revista Superinteressante publicou uma matéria sobre o ET de Varginha, explorando tanto a versão oficial (de que se tratava de um boato) quanto a teoria da conspiração.\n> *   **Wikipedia:** A página da Wikipedia sobre o Incidente de Varginha resume os relatos, investigações oficiais e teorias da conspiração, mencionando a falta de evidências e as negativas das autoridades.\n> \n> Em resumo, embora o caso do ET de Varginha continue a gerar interesse e discussões, as agências de fact-checking e outras fontes confiáveis geralmente o tratam como uma lenda urbana sem comprovação factual.\n"
          },
          "metadata": {}
        },
        {
          "output_type": "stream",
          "name": "stdout",
          "text": [
            "--------------------------------------------------------------\n",
            "\n",
            "--- 📝 Resultado do Agente 5 (Organizador do Resultado da Verificação) ---\n",
            "\n"
          ]
        },
        {
          "output_type": "display_data",
          "data": {
            "text/plain": [
              "<IPython.core.display.Markdown object>"
            ],
            "text/markdown": "> - Após análise das informações e checagens realizadas, o caso do ET de Varginha é amplamente considerado uma lenda urbana ou teoria da conspiração, sem comprovação factual. Apesar da notoriedade e do impacto cultural e turístico na cidade de Varginha, as evidências concretas são inexistentes, baseando-se em relatos e testemunhos não confirmados.\n> - Parecer: INSUSTENTÁVEL\n> - Justificativas:\n>   - Agências de fact-checking como Boatos.org e E-farsas desmentiram a veracidade de vídeos e alegações relacionadas ao caso.\n>   - Veículos de comunicação como UOL Confere e Superinteressante tratam o caso como uma lenda urbana, sem evidências concretas.\n>   - As autoridades locais e federais negam as afirmações de naves e seres extraterrestres.\n> - Fontes relevantes:\n>   - ([Boatos.org desmente vídeo do ET de Varginha](https://www.boatos.org/brasil/video-et-de-varginha-2024.html))\n>   - ([E-farsas revela a verdade sobre o caso do ET de Varginha](https://www.e-farsas.com/o-caso-et-de-varginha-a-verdade-por-tras-da-historia.html))\n>   - ([UOL Confere aborda a história do ET de Varginha](https://noticias.uol.com.br/confere/ultimas-noticias/2023/05/19/historia-do-et-de-varginha-um-dos-casos-mais-famosos-de-ovnis-no-brasil.htm))\n>   - ([Notícia do Estadão sobre o ET de Varginha como Patrimônio Cultural Imaterial](https://www.estadao.com.br/cidades/et-de-varginha-mg-pode-se-tornar-patrimonio-cultural-imaterial-da-cidade/))\n>   - ([Prefeitura de Varginha estuda registrar o caso como Patrimônio Cultural Imaterial](https://www.cnnbrasil.com.br/nacional/caso-et-de-varginha-entenda-a-historia-e-saiba-o-que-pode-acontecer/))\n> \n"
          },
          "metadata": {}
        },
        {
          "output_type": "stream",
          "name": "stdout",
          "text": [
            "--------------------------------------------------------------\n"
          ]
        }
      ]
    }
  ]
}