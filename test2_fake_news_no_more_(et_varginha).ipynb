{
  "nbformat": 4,
  "nbformat_minor": 0,
  "metadata": {
    "colab": {
      "provenance": [],
      "include_colab_link": true
    },
    "kernelspec": {
      "name": "python3",
      "display_name": "Python 3"
    },
    "language_info": {
      "name": "python"
    }
  },
  "cells": [
    {
      "cell_type": "markdown",
      "metadata": {
        "id": "view-in-github",
        "colab_type": "text"
      },
      "source": [
        "<a href=\"https://colab.research.google.com/github/cezarviana/fake-news-no-more/blob/main/test2_fake_news_no_more_(et_varginha).ipynb\" target=\"_parent\"><img src=\"https://colab.research.google.com/assets/colab-badge.svg\" alt=\"Open In Colab\"/></a>"
      ]
    },
    {
      "cell_type": "code",
      "source": [
        "%pip -q install google-genai\n",
        "\n",
        "\n",
        "# Configura a API Key do Google Gemini\n",
        "\n",
        "import os\n",
        "from google.colab import userdata\n",
        "\n",
        "os.environ[\"GOOGLE_API_KEY\"] = userdata.get('GOOGLE_API_KEY')\n",
        "\n",
        "\n",
        "# Configura o cliente da SDK do Gemini\n",
        "\n",
        "from google import genai\n",
        "\n",
        "client = genai.Client()\n",
        "\n",
        "MODEL_ID = \"gemini-2.0-flash\"\n",
        "\n",
        "\n",
        "# Instalar Framework de agentes do Google ################################################\n",
        "!pip install -q google-adk\n",
        "\n",
        "\n",
        "from google.adk.agents import Agent\n",
        "from google.adk.runners import Runner\n",
        "from google.adk.sessions import InMemorySessionService\n",
        "from google.adk.tools import google_search\n",
        "from google.genai import types  # Para criar conteúdos (Content e Part)\n",
        "from datetime import date\n",
        "import textwrap # Para formatar melhor a saída de texto\n",
        "from IPython.display import display, Markdown # Para exibir texto formatado no Colab\n",
        "import requests # Para fazer requisições HTTP\n",
        "import warnings\n",
        "\n",
        "warnings.filterwarnings(\"ignore\")\n",
        "\n",
        "\n",
        "# Função auxiliar que envia uma mensagem para um agente via Runner e retorna a resposta final\n",
        "def call_agent(agent: Agent, message_text: str) -> str:\n",
        "    # Cria um serviço de sessão em memória\n",
        "    session_service = InMemorySessionService()\n",
        "    # Cria uma nova sessão (você pode personalizar os IDs conforme necessário)\n",
        "    session = session_service.create_session(app_name=agent.name, user_id=\"user1\", session_id=\"session1\")\n",
        "    # Cria um Runner para o agente\n",
        "    runner = Runner(agent=agent, app_name=agent.name, session_service=session_service)\n",
        "    # Cria o conteúdo da mensagem de entrada\n",
        "    content = types.Content(role=\"user\", parts=[types.Part(text=message_text)])\n",
        "\n",
        "    final_response = \"\"\n",
        "    # Itera assincronamente pelos eventos retornados durante a execução do agente\n",
        "    for event in runner.run(user_id=\"user1\", session_id=\"session1\", new_message=content):\n",
        "        if event.is_final_response():\n",
        "          for part in event.content.parts:\n",
        "            if part.text is not None:\n",
        "              final_response += part.text\n",
        "              final_response += \"\\n\"\n",
        "    return final_response\n",
        "\n",
        "\n",
        "# Função auxiliar para exibir texto formatado em Markdown no Colab\n",
        "def to_markdown(text):\n",
        "  text = text.replace('•', '  *')\n",
        "  return Markdown(textwrap.indent(text, '> ', predicate=lambda _: True))\n",
        "\n",
        "\n",
        "##########################################\n",
        "# --- Agente 1: Buscador de Notícias --- #\n",
        "##########################################\n",
        "def agente_buscador(topico, data_de_hoje):\n",
        "    buscador = Agent(\n",
        "        name=\"agente_buscador\",\n",
        "        model=\"gemini-2.0-flash\",\n",
        "        instruction=\"\"\"\n",
        "        Você é parte de um sistema colaborativo de verificação de notícias. Siga rigorosamente as instruções específicas da sua função para analisar o tópico fornecido e contribuir para a determinação da sua veracidade.\n",
        "        Sua função é ser um assistente de pesquisa. A sua tarefa é usar a ferramenta de busca google (google_search) para recuperar as últimas notícias de lançamentos muito relevantes sobre o tópico abaixo.\n",
        "        Priorize fontes jornalísticas reconhecidas e com boa reputação.\n",
        "        Selecione no máximo 5 lançamentos que demonstrem relevância (baseada na cobertura e qualidade da fonte) e sejam os mais atuais possíveis, desde que sejam fontes jornalísticas reconhecidas e com boa reputação.\n",
        "        Para cada lançamento relevante, forneça o título, um breve resumo e o **link direto para a notícia**.\n",
        "        Se o tópico não possuir 5 notícias a seu respeito, apresente somente as encontradas. Sem adicionar outras notícias com termos parecidos e que não tenham relação direta com o tópico.\n",
        "        Se o tópico gerar pouca cobertura noticiosa ou reações limitadas, sinalize essa baixa relevância como um possível indicativo para considerar outros tópicos.\n",
        "        Esses lançamentos relevantes devem ser atuais, de no máximo um mês antes da data de hoje.\n",
        "        \"\"\",\n",
        "        description=\"Agente que busca de notícias no Google Search sobre o tópico\",\n",
        "        tools=[google_search]\n",
        "    )\n",
        "\n",
        "    entrada_do_agente_buscador = f\"Tópico: {topico}\\nData de hoje: {data_de_hoje}\"\n",
        "    # Executa o agente\n",
        "    lancamentos_buscados = call_agent(buscador, entrada_do_agente_buscador)\n",
        "    return lancamentos_buscados\n",
        "\n",
        "\n",
        "################################################\n",
        "# --- Agente 2: Verificador de Fontes --- #\n",
        "################################################\n",
        "def agente_verificador_fontes(topico, lancamentos_buscados):\n",
        "    verificador_fontes = Agent(\n",
        "        name=\"agente_verificador_fontes\",\n",
        "        model=\"gemini-2.0-flash\",\n",
        "        # Inserir as instruções do Agente Verificador de Fontes #################################################\n",
        "        instruction=\"\"\"\n",
        "        Você é parte de um sistema colaborativo de verificação de notícias. Siga rigorosamente as instruções específicas da sua função para analisar o tópico fornecido e contribuir para a determinação da sua veracidade.\n",
        "        Sua função é ser um verificador de fontes, especialista em fact-checking.\n",
        "        Para cada fonte principal identificada:\n",
        "        - Determine se o site ou canal é conhecido e geralmente considerado confiável.\n",
        "        - Localize e examine a seção 'Sobre nós' (ou equivalente) para entender a missão, equipe e possíveis vieses do site.\n",
        "        - Verifique se outras fontes confiáveis corroboram as informações apresentadas pela fonte principal. Liste as fontes que confirmam os achados.\n",
        "        \"\"\",\n",
        "        description=\"Agente que verifica as fontes levantadas\",\n",
        "        tools=[google_search]\n",
        "    )\n",
        "\n",
        "    entrada_do_agente_verificador_fontes = f\"Tópico:{topico}\\nLançamentos buscados: {lancamentos_buscados}\"\n",
        "    # Executa o agente\n",
        "    verificacao_fontes = call_agent(verificador_fontes, entrada_do_agente_verificador_fontes)\n",
        "    return verificacao_fontes\n",
        "\n",
        "\n",
        "################################################\n",
        "# --- Agente 3: Verificador de Conteúdo --- #\n",
        "################################################\n",
        "def agente_verificador_conteudo(topico, lancamentos_buscados):\n",
        "    verificador_conteudo = Agent(\n",
        "        name=\"agente_verificador_conteudo\",\n",
        "        model=\"gemini-2.0-flash\",\n",
        "        # Inserir as instruções do Agente Verificador de Conteúdo #################################################\n",
        "        instruction=\"\"\"\n",
        "        Você é parte de um sistema colaborativo de verificação de notícias. Siga rigorosamente as instruções específicas da sua função para analisar o tópico fornecido e contribuir para a determinação da sua veracidade.\n",
        "        Sua função é ser um verificador de conteúdo, especialista em fact-checking.\n",
        "        Examine o conteúdo das notícias e informações relacionadas ao tópico.\n",
        "        Linguagem e Estilo:\n",
        "        - Avalie se há uso de sofismos ou outras técnicas de persuasão manipuladoras.\n",
        "        - Identifique erros de ortografia e gramática que possam indicar falta de profissionalismo ou revisão.\n",
        "        - Distinga claramente entre fatos apresentados e opiniões, verificando se as opiniões são devidamente atribuídas.\n",
        "        Contexto e Evidências:\n",
        "        - Verifique se a data da informação é relevante para o contexto atual.\n",
        "        - Se houver imagens, utilize a busca reversa (Google Imagens) para verificar sua autenticidade e se foram usadas em outros contextos enganosos.\n",
        "        Coerência:\n",
        "        - Avalie a lógica interna do conteúdo e sua coerência com informações de outras fontes.\n",
        "        \"\"\",\n",
        "        description=\"Agente que verifica o conteúdo das notícias levantadas\",\n",
        "        tools=[google_search]\n",
        "    )\n",
        "\n",
        "    entrada_do_agente_verificador_conteudo = f\"Tópico:{topico}\\nLançamentos buscados: {lancamentos_buscados}\"\n",
        "    # Executa o agente\n",
        "    verificacao_conteudo = call_agent(verificador_conteudo, entrada_do_agente_verificador_conteudo)\n",
        "    return verificacao_conteudo\n",
        "\n",
        "\n",
        "##########################################\n",
        "# --- Agente 4: Agência de Fact-Checking --- #\n",
        "##########################################\n",
        "def agente_verificador_fatos(topico, data_de_hoje):\n",
        "    verificador_fatos = Agent(\n",
        "        name=\"agente_verificador_fatos\",\n",
        "        model=\"gemini-2.0-flash\",\n",
        "        instruction=\"\"\"\n",
        "        Você é parte de um sistema colaborativo de verificação de notícias. Siga rigorosamente as instruções específicas da sua função para analisar o tópico fornecido e contribuir para a determinação da sua veracidade.\n",
        "        Sua tarefa é verificar se o tópico/afirmação já foi alvo de checagem por agências de fact-checking confiáveis, através da  busca google (google_search), priorizando as verificações mais recentes sobre o tópico.\n",
        "        As agências de fact-checking a serem consultadas de acordo com o tópico serão as indicadas abaixo:\n",
        "        - No Brasil:\n",
        "          - Aos Fatos;\n",
        "          - Lupa;\n",
        "          - UOL Confere;\n",
        "          - Estadão Verifica;\n",
        "          - Fato ou Fake (G1);\n",
        "          - Boatos.org;\n",
        "          - Agência Pública - Truco no Congresso;\n",
        "          - Comprova;\n",
        "          - E-farsas;\n",
        "          - É isso Mesmo? (O Globo);\n",
        "          - Portal EBC - Checagem;\n",
        "        - Internacionais com atuação ou relevância no Brasil:\n",
        "          - AFP Fact Check;\n",
        "          - Reuters Fact Check;\n",
        "          - Snopes;\n",
        "          - PolitiFact;\n",
        "          - FactCheck.org;\n",
        "        - Organizações e Redes Internacionais:\n",
        "          - International Fact-Checking Network (IFCN);\n",
        "          - European Fact-Checking Standards Network (EFCSN);\n",
        "          - Duke Reporters' Lab;\n",
        "        Informe se o tópico foi encontrado em alguma das agências de fact-checking e qual foi a conclusão dessas agências (verdadeiro, falso, enganoso, etc.).\n",
        "        Se encontrado, cite a fonte da agência de fact-checking e um breve resumo da sua análise.\n",
        "        \"\"\",\n",
        "        description=\"Agente que verifica o que agências de fact-checking dizem a respeito do tópico\",\n",
        "        tools=[google_search]\n",
        "    )\n",
        "\n",
        "    entrada_do_agente_verificador_fatos = f\"Tópico: {topico}\\nData de hoje: {data_de_hoje}\"\n",
        "    # Executa o agente\n",
        "    verificacao_fatos = call_agent(verificador_fatos, entrada_do_agente_verificador_fatos)\n",
        "    return verificacao_fatos\n",
        "\n",
        "\n",
        "###############################################\n",
        "# --- Agente 5: Organizador do Resultado da Verificação --- #\n",
        "################################################\n",
        "def agente_organizador_resultado(topico, lancamentos_buscados, verificacao_fontes, verificacao_conteudo, verificacao_fatos):\n",
        "    organizador = Agent(\n",
        "        name=\"agente_organizador_resultado\",\n",
        "        model=\"gemini-2.0-flash\",\n",
        "        # Inserir as instruções do Agente de Resultados #################################################\n",
        "        instruction=\"\"\"\n",
        "        Você é parte de um sistema colaborativo de verificação de notícias. Siga rigorosamente as instruções específicas da sua função para analisar o tópico fornecido e contribuir para a determinação da sua veracidade.\n",
        "        Sua função é organizar os resultados com base nas análises dos outros agentes sobre o tópico, e determinar a veracidade da informação.\n",
        "        Apresente um veredicto claro: Verdadeiro, Falso, Enganoso, Insustentável, etc.\n",
        "        Justifique sua conclusão de forma concisa, utilizando as evidências e os resultados fornecidos pelos outros agentes (agente_buscador, agente_verificador_fontes, agente_verificador_conteudo e agente_verificador_fatos).\n",
        "        Preste atenção aos lançamentos buscados e inclua os **links das fontes relevantes** no resultado final, se disponíveis.\n",
        "        Inclua os **links das fontes relevantes formatados em Markdown ([Fonte - Texto do Link](URL do Link))** no resultado final, se disponíveis.\n",
        "        Liste as fontes mais relevantes (sites de notícias confiáveis, agências de fact-checking) que sustentam sua conclusão.\n",
        "\n",
        "        Padrão de Resultado:\n",
        "        - Escrever um resumo da verifição do tópico neste ponto.\n",
        "        - Parecer: VERDADEIRO, FALSO, ENGANOSO, INSUSTENTÁVEL, etc.\n",
        "        - Justificativas:\n",
        "          - Justificativa 1.\n",
        "          - Justificativa 2.\n",
        "          - Justificativa 3.\n",
        "          - Justificativa n.\n",
        "        - Fontes relevantes:\n",
        "          - ([Fonte 1 - Texto do Link da Fonte 1](URL do Link da Fonte 1)).\n",
        "          - ([Fonte 2 - Texto do Link da Fonte 2](URL do Link da Fonte 2)).\n",
        "          - ([Fonte 3 - Texto do Link da Fonte 3](URL do Link da Fonte 3)).\n",
        "          - ([Fonte n - Texto do Link da Fonte n](URL do Link da Fonte n)).\n",
        "        \"\"\",\n",
        "        description=\"Agente que organiza os resultados da verificação\",\n",
        "        tools=[google_search]\n",
        "    )\n",
        "\n",
        "    entrada_do_agente_organizador_resultado = f\"Tópico:{topico}\\nLançamentos buscados:{lancamentos_buscados}\\nVerificação fontes:{verificacao_fontes}\\nVerificação conteúdo:{verificacao_conteudo}\\nVerificação fatos:{verificacao_fatos}\"\n",
        "    # Executa o agente\n",
        "    resultado = call_agent(organizador,  entrada_do_agente_organizador_resultado)\n",
        "    return resultado"
      ],
      "metadata": {
        "id": "UCCbECexLk_h"
      },
      "execution_count": 17,
      "outputs": []
    },
    {
      "cell_type": "code",
      "source": [
        "data_de_hoje = date.today().strftime(\"%d/%m/%Y\")\n",
        "\n",
        "print(\"🚀 Iniciando o Sistema de Verificação de Fatos com 5 Agentes 🚀\")\n",
        "\n",
        "# --- Obter o Tópico do Usuário ---\n",
        "topico = input(\"❓ Por favor, digite o TÓPICO sobre o qual você quer saber a veracidade: \")\n",
        "\n",
        "# Inserir lógica do sistema de agentes ################################################\n",
        "if not topico:\n",
        "    print(\"Você esqueceu de digitar o tópico!\")\n",
        "else:\n",
        "    print(f\"Maravilha! Vamos pesquisar sobre a veracidade a respeito de {topico}\")\n",
        "\n",
        "    lancamentos_buscados = agente_buscador(topico, data_de_hoje)\n",
        "    print(\"\\n--- 📝 Resultado do Agente 1 (Buscador de Notícias) ---\\n\")\n",
        "    display(to_markdown(lancamentos_buscados))\n",
        "    print(\"--------------------------------------------------------------\")\n",
        "\n",
        "    verificacao_fontes = agente_verificador_fontes(topico, lancamentos_buscados)\n",
        "    print(\"\\n--- 📝 Resultado do Agente 2 (Verificador de Fontes) ---\\n\")\n",
        "    display(to_markdown(verificacao_fontes))\n",
        "    print(\"--------------------------------------------------------------\")\n",
        "\n",
        "    verificacao_conteudo = agente_verificador_conteudo(topico, lancamentos_buscados)\n",
        "    print(\"\\n--- 📝 Resultado do Agente 3 (Verificador de Conteúdo) ---\\n\")\n",
        "    display(to_markdown(verificacao_conteudo))\n",
        "    print(\"--------------------------------------------------------------\")\n",
        "\n",
        "    verificacao_fatos = agente_verificador_fatos(topico, data_de_hoje)\n",
        "    print(\"\\n--- 📝 Resultado do Agente 4 (Agências de Fact-Checking) ---\\n\")\n",
        "    display(to_markdown(verificacao_fatos))\n",
        "    print(\"--------------------------------------------------------------\")\n",
        "\n",
        "    resultado = agente_organizador_resultado(topico, lancamentos_buscados, verificacao_fontes, verificacao_conteudo, verificacao_fatos)\n",
        "    print(\"\\n--- 📝 Resultado do Agente 5 (Organizador do Resultado da Verificação) ---\\n\")\n",
        "    display(to_markdown(resultado))\n",
        "    print(\"--------------------------------------------------------------\")"
      ],
      "metadata": {
        "colab": {
          "base_uri": "https://localhost:8080/",
          "height": 1000
        },
        "id": "6xzI6LKzxxnN",
        "outputId": "8e99d458-6d9d-4454-e9c1-e402eea60615"
      },
      "execution_count": 23,
      "outputs": [
        {
          "output_type": "stream",
          "name": "stdout",
          "text": [
            "🚀 Iniciando o Sistema de Verificação de Fatos com 5 Agentes 🚀\n",
            "❓ Por favor, digite o TÓPICO sobre o qual você quer saber a veracidade: Et de Varginha existiu?\n",
            "Maravilha! Vamos pesquisar sobre a veracidade a respeito de Et de Varginha existiu?\n",
            "\n",
            "--- 📝 Resultado do Agente 1 (Buscador de Notícias) ---\n",
            "\n"
          ]
        },
        {
          "output_type": "display_data",
          "data": {
            "text/plain": [
              "<IPython.core.display.Markdown object>"
            ],
            "text/markdown": "> Para investigar a veracidade sobre o caso do ET de Varginha, vou buscar notícias e reportagens recentes sobre o tema.\n> \n> \n> Com base nas notícias e reportagens encontradas, o caso do ET de Varginha continua a gerar interesse e discussões, embora não haja confirmação oficial sobre a existência do ET. A seguir, apresento alguns lançamentos relevantes sobre o tema:\n> \n> 1.  **Prefeitura de Varginha realiza estudos para Dossiê Registro do “Caso ET de Varginha” como Patrimônio Cultural Imaterial**\n>     *   **Resumo:** Em março de 2023, a Prefeitura de Varginha iniciou estudos para registrar o \"Caso ET de Varginha\" como Patrimônio Cultural Imaterial. A medida visa preservar a memória do evento e promover a educação patrimonial relacionada à astronomia e ufologia.\n>     *   **Link:** [https://vertexaisearch.cloud.google.com/grounding-api-redirect/AbF9wXEJH6I\\_S1FhbmA6pxuouHHlECpC69z20FD9AgZxmS374gLWIbRO0eQzrR6vKvFrE0IeeuS-C418\\_ztnKe7r8LS0PHnMhGf6ln36krsKZGhL5L8hV1cJH20GklddmqAWh7wyrYh\\_GFQCuEmZ8QtnGCrUimIQYz20hWlwRAWJ5Z6aETNDQ1GahzwfQ0ZZWWQKqDe2ZVtw-WLFpLA-HkcSJjDFs\\_7TYNDOQzyeZEf\\_vuFTncpGYfl7yaGUuoZYXX7phOMmKSRbFBMe92VDEz0D7-k3CVNmWNhkAqNFYU7eqYdlyVI7iVn2lvIHyZz8dA==](https://vertexaisearch.cloud.google.com/grounding-api-redirect/AbF9wXEJH6I_S1FhbmA6pxuouHHlECpC69z20FD9AgZxmS374gLWIbRO0eQzrR6vKvFrE0IeeuS-C418_ztnKe7r8LS0PHnMhGf6ln36krsKZGhL5L8hV1cJH20GklddmqAWh7wyrYh_GFQCuEmZ8QtnGCrUimIQYz20hWlwRAWJ5Z6aETNDQ1GahzwfQ0ZZWWQKqDe2ZVtw-WLFpLA-HkcSJjDFs_7TYNDOQzyeZEf_vuFTncpGYfl7yaGUuoZYXX7phOMmKSRbFBMe92VDEz0D7-k3CVNmWNhkAqNFYU7eqYdlyVI7iVn2lvIHyZz8dA==)\n> 2.  **“ET de Varginha“ pode se tornar Patrimônio Cultural Imaterial em MG - CNN Brasil**\n>     *   **Resumo:** A CNN Brasil noticiou em 31 de março de 2023 que a prefeitura de Varginha pretende registrar o \"Caso do ET de Varginha\" como Patrimônio Cultural Imaterial local. A decisão foi tomada após pedidos da sociedade local para abertura de estudos para embasar o Dossiê de Registro municipal.\n>     *   **Link:** [https://vertexaisearch.cloud.google.com/grounding-api-redirect/AbF9wXF0FAinVl0xz5dj6sITzD00R9FcAFzXfvtd2xUZtAm-hMznBYvhCVPn2NXlRdHpZirCECB4NNeWA5Lt0WZMEbkWDqeolQaedwHHiqjbLCq66ZHWz4PVr8ovevkhjyVdUjGg3qjHRgx0GAAejsNWgaVFHE64qcjTuZV2OGjA3t2M2A9ovV-33brwm7dNQDRHa1ELcUwHXe9jkcCn-g8RGJLnzcLP](https://vertexaisearch.cloud.google.com/grounding-api-redirect/AbF9wXF0FAinVl0xz5dj6sITzD00R9FcAFzXfvtd2xUZtAm-hMznBYvhCVPn2NXlRdHpZirCECB4NNeWA5Lt0WZMEbkWDqeolQaedwHHiqjbLCq66ZHWz4PVr8ovevkhjyVdUjGg3qjHRgx0GAAejsNWgaVFHE64qcjTuZV2OGjA3t2M2A9ovV-33brwm7dNQDRHa1ELcUwHXe9jkcCn-g8RGJLnzcLP)\n> 3.  **O caso do ET de Varginha e a perspectiva de um local - Conteúdo Aberto**\n> \n>     *   **Resumo:** Artigo de 19 de abril de 2024 explora como o incidente de Varginha marcou a história da cidade, influenciando o turismo e a identidade local, com a criação de pontos turísticos temáticos e a celebração do \"Dia do ET de Varginha\".\n>     *   **Link:** [https://vertexaisearch.cloud.google.com/grounding-api-redirect/AbF9wXG4KVBR5QaF\\_US6qikhZTsmdM5KC2KTj1EBNE3TtRLKQgNlJG4KyiZBS1saPKY9AhzZnD3id3O4XBvnfoWvCqT82XdXJiKXlFG2zjt9TJw-Hhu54xHnniG3-cajUL-f\\_\\_3tu3PlIZbP\\_Y7WvH5X1ClRG4eN70-nJg==](https://vertexaisearch.cloud.google.com/grounding-api-redirect/AbF9wXG4KVBR5QaF_US6qikhZTsmdM5KC2KTj1EBNE3TtRLKQgNlJG4KyiZBS1saPKY9AhzZnD3id3O4XBvnfoWvCqT82XdXJiKXlFG2zjt9TJw-Hhu54xHnniG3-cajUL-f__3tu3PlIZbP_Y7WvH5X1ClRG4eN70-nJg==)\n> 4.  **Os bastidores da cobertura do ET de Varginha e o jornalismo literário com cores locais**\n> \n>     *   **Resumo:** Artigo de 6 de julho de 2023 sobre o livro \"Os ETs de Varginha: bastidores de uma cobertura de outro mundo\", que narra os desafios de uma jovem repórter ao cobrir o caso e os relatos de avistamentos de OVNIs na região.\n>     *   **Link:** [https://vertexaisearch.cloud.google.com/grounding-api-redirect/AbF9wXHOfSoGWCzwamfpLwpz8PpkYIwso9atkhhatU5M2U\\_gxWdA-P59tPcQ95nnzOyRjvIwzcg4gLz-yAoMFwA0FK8lpYh07aAroYuXxW3I74y3oHlXuX5ajNBWGcf2a4VssCKgm\\_D45tT-wrLR8TUlhr3v6ltv2am2SBjW6jGIbpOFAn1Aajj7JPWv9xUIvTiSnhGjYhDL3JA1TT4GlFYb\\_63XfUE74E4uqEGrKSsDnHuq3rSr](https://vertexaisearch.cloud.google.com/grounding-api-redirect/AbF9wXHOfSoGWCzwamfpLwpz8PpkYIwso9atkhhatU5M2U_gxWdA-P59tPcQ95nnzOyRjvIwzcg4gLz-yAoMFwA0FK8lpYh07aAroYuXxW3I74y3oHlXuX5ajNBWGcf2a4VssCKgm_D45tT-wrLR8TUlhr3v6ltv2am2SBjW6jGIbpOFAn1Aajj7JPWv9xUIvTiSnhGjYhDL3JA1TT4GlFYb_63XfUE74E4uqEGrKSsDnHuq3rSr)\n> 5.  **O caso do E.T. de Varginha completa 29 anos. Conheça mais sobre um dos principais casos de ufologia da história - Tempo.com**\n> \n>     *   **Resumo:** Artigo de 30 de janeiro de 2025 que revisita o caso do ET de Varginha, destacando o investimento do município em estrutura turística relacionada ao evento, como o Memorial do E.T., que abriga um planetário e exposições sobre os supostos avistamentos.\n>     *   **Link:** [https://vertexaisearch.cloud.google.com/grounding-api-redirect/AbF9wXE2GPgVLpFas9gc2Lpwv7-rOYWNbtsvP4p9OWL4jdZfKEFXqNS59vfGgKPhKesZuoM3lFbBCjsaLuch3PSAydPWqFsSxRtq6zYh1efrBsQO9QUzm1Syw97HCsH3NhnZUp2PJ8AayR5fx8MZUfiZ\\_syOthKWYKH4kqzo29aGlG2VxVewof5rUCWLT2Wp81ReCQm1HyRm0j6mxifu6mX9Gy\\_21fTnVKIAXwXtnUNHXk0sa1fO\\_0nUYE63PIETydX624nIBAlhnFja5q0Z7myKBLw=](https://vertexaisearch.cloud.google.com/grounding-api-redirect/AbF9wXE2GPgVLpFas9gc2Lpwv7-rOYWNbtsvP4p9OWL4jdZfKEFXqNS59vfGgKPhKesZuoM3lFbBCjsaLuch3PSAydPWqFsSxRtq6zYh1efrBsQO9QUzm1Syw97HCsH3NhnZUp2PJ8AayR5fx8MZUfiZ_syOthKWYKH4kqzo29aGlG2VxVewof5rUCWLT2Wp81ReCQm1HyRm0j6mxifu6mX9Gy_21fTnVKIAXwXtnUNHXk0sa1fO_0nUYE63PIETydX624nIBAlhnFja5q0Z7myKBLw=)\n> \n> Embora o caso continue a ser explorado e discutido, é importante notar que as investigações oficiais não encontraram evidências concretas que confirmem a aparição de um ser extraterrestre em Varginha.\n"
          },
          "metadata": {}
        },
        {
          "output_type": "stream",
          "name": "stdout",
          "text": [
            "--------------------------------------------------------------\n",
            "\n",
            "--- 📝 Resultado do Agente 2 (Verificador de Fontes) ---\n",
            "\n"
          ]
        },
        {
          "output_type": "display_data",
          "data": {
            "text/plain": [
              "<IPython.core.display.Markdown object>"
            ],
            "text/markdown": "> Ok, com base nos lançamentos que você apresentou, vou verificar as fontes para determinar sua confiabilidade e corroborar as informações.\n> \n> **1. Prefeitura de Varginha**\n> \n> *   **Confiabilidade:** Por ser um órgão oficial do governo municipal, a prefeitura é geralmente considerada uma fonte confiável para informações sobre suas próprias iniciativas e projetos.\n> *   **Sobre nós:** A prefeitura tem como missão promover o desenvolvimento social e econômico do município, bem como preservar seu patrimônio cultural e histórico.\n> *   **Corroboração:** A notícia sobre os estudos para o Dossiê de Registro do \"Caso ET de Varginha\" como Patrimônio Cultural Imaterial é corroborada pela CNN Brasil (fonte 2), o que aumenta a credibilidade da informação.\n> \n> **2. CNN Brasil**\n> \n> *   **Confiabilidade:** A CNN Brasil é um veículo de comunicação conhecido e geralmente considerado confiável para notícias de alcance nacional e internacional.\n> *   **Sobre nós:** A CNN Brasil faz parte da CNN, uma rede de notícias globalmente reconhecida. Sua missão é fornecer notícias precisas e imparciais ao público.\n> *   **Corroboração:** A notícia da CNN Brasil corrobora a informação divulgada pela Prefeitura de Varginha, o que reforça a veracidade dos estudos para o registro do caso como patrimônio imaterial.\n> \n> **3. Conteúdo Aberto**\n> \n> *   **Confiabilidade:** Preciso de mais informações sobre este site para avaliar sua confiabilidade. Recomendo examinar a seção \"Sobre nós\" do site para entender sua missão, equipe e possíveis vieses. Além disso, verificar se outras fontes confiáveis corroboram as informações apresentadas.\n> *   **Sobre nós:** Verificar a seção \"Sobre nós\" do site.\n> *   **Corroboração:** Verificar se outras fontes confiáveis corroboram as informações apresentadas.\n> \n> **4. Artigo sobre o livro \"Os ETs de Varginha: bastidores de uma cobertura de outro mundo\"**\n> \n> *   **Confiabilidade:** A confiabilidade dessa fonte depende da reputação do veículo que publicou o artigo e da editora do livro. É importante verificar se o veículo é conhecido por sua precisão e imparcialidade.\n> *   **Sobre nós:** Procurar informações sobre o veículo que publicou o artigo.\n> *   **Corroboração:** Verificar se outras fontes confiáveis corroboram as informações apresentadas no artigo sobre o livro.\n> \n> **5. Tempo.com**\n> \n> *   **Confiabilidade:** Tempo.com é um site de notícias sobre meteorologia e clima. A confiabilidade para informações sobre o caso do ET de Varginha precisaria ser avaliada com base na precisão com que tratam de outros assuntos e na qualidade da apuração jornalística neste caso específico.\n> *   **Sobre nós:** O site é especializado em informações meteorológicas.\n> *   **Corroboração:** Verificar se outras fontes confiáveis corroboram as informações apresentadas pelo Tempo.com sobre o caso do ET de Varginha.\n> \n> Para concluir a verificação das fontes, é importante realizar os seguintes passos:\n> \n> *   Examinar a seção \"Sobre nós\" do site Conteúdo Aberto e do veículo que publicou o artigo sobre o livro.\n> *   Verificar se outras fontes confiáveis corroboram as informações apresentadas pelo Conteúdo Aberto, pelo artigo sobre o livro e pelo Tempo.com.\n> \n> Gostaria de saber se você tem mais informações sobre o \"Conteúdo Aberto\" e sobre o veículo que publicou o artigo sobre o livro, para que eu possa completar a verificação das fontes.\n> \n> Com base nas informações adicionais encontradas, pude concluir a verificação das fontes:\n> \n> 1.  **Prefeitura de Varginha:**\n> \n>     *   **Confiabilidade:** Confirmada como fonte confiável por ser um órgão oficial do governo municipal.\n>     *   **Corroboração:** Notícia corroborada pela CNN Brasil.\n> 2.  **CNN Brasil:**\n> \n>     *   **Confiabilidade:** Confirmada como fonte confiável por ser um veículo de comunicação conhecido e reconhecido globalmente.\n>     *   **Sobre nós:** A CNN Brasil tem como missão fornecer notícias precisas e imparciais.\n>     *   **Corroboração:** Corrobora a informação divulgada pela Prefeitura de Varginha.\n> 3.  **Conteúdo Aberto:**\n> \n>     *   **Confiabilidade:** O \"Conteúdo Aberto\" é uma iniciativa da FTD Educação, uma empresa com mais de 120 anos de história e missão de levar educação transformadora às escolas. O portal oferece informações, materiais e ferramentas para educadores, alunos e famílias. É um portal multimídia com conteúdos para professores e estudantes. A FTD Educação é uma editora de livros didáticos e oferece soluções digitais de aprendizagem.\n>     *   **Sobre nós:** A FTD Educação tem como missão levar uma Educação transformadora até as escolas, apoiada em valores que ajudam crianças e jovens na formação como cidadãos protagonistas e ativos em sociedade.\n>     *   **Corroboração:** A informação sobre o Conteúdo Aberto ser uma iniciativa da FTD Educação pode ser encontrada em outros sites, como o portal da própria FTD Educação.\n> 4.  **Artigo sobre o livro \"Os ETs de Varginha: bastidores de uma cobertura de outro mundo\":**\n> \n>     *   **Confiabilidade:** Não foi possível encontrar informações suficientes sobre o veículo que publicou o artigo para determinar sua confiabilidade. No entanto, a existência do livro e sua temática podem ser verificadas em outras fontes.\n>     *   **Sobre nós:** Não foi possível encontrar informações sobre o veículo que publicou o artigo.\n>     *   **Corroboração:** A existência do livro e sua temática podem ser verificadas em outras fontes.\n> 5.  **Tempo.com:**\n> \n>     *   **Confiabilidade:** Tempo.com é um site especializado em informações meteorológicas. Embora seja confiável para previsões do tempo, sua credibilidade em relação a eventos ufológicos pode ser questionável. É importante verificar se as informações sobre o caso do ET de Varginha são corroboradas por outras fontes mais especializadas.\n>     *   **Sobre nós:** O site é especializado em informações meteorológicas.\n>     *   **Corroboração:** Verificar se outras fontes confiáveis corroboram as informações apresentadas pelo Tempo.com sobre o caso do ET de Varginha.\n> \n> Com base na verificação das fontes, é possível concluir que:\n> \n> *   As notícias sobre a Prefeitura de Varginha realizar estudos para registrar o \"Caso ET de Varginha\" como Patrimônio Cultural Imaterial são confiáveis, pois são provenientes de fontes oficiais e corroboradas por outros veículos de comunicação.\n> *   O \"Conteúdo Aberto\" é uma iniciativa da FTD Educação, uma empresa com reputação no mercado educacional.\n> *   A confiabilidade do artigo sobre o livro \"Os ETs de Varginha: bastidores de uma cobertura de outro mundo\" é incerta, pois não foi possível verificar a reputação do veículo que o publicou.\n> *   O Tempo.com é confiável para informações meteorológicas, mas sua credibilidade em relação a eventos ufológicos pode ser questionável.\n> \n> É importante ressaltar que, embora o caso do ET de Varginha continue a gerar interesse e discussões, as investigações oficiais não encontraram evidências concretas que confirmem a aparição de um ser extraterrestre em Varginha.\n> \n"
          },
          "metadata": {}
        },
        {
          "output_type": "stream",
          "name": "stdout",
          "text": [
            "--------------------------------------------------------------\n",
            "\n",
            "--- 📝 Resultado do Agente 3 (Verificador de Conteúdo) ---\n",
            "\n"
          ]
        },
        {
          "output_type": "display_data",
          "data": {
            "text/plain": [
              "<IPython.core.display.Markdown object>"
            ],
            "text/markdown": "> O caso do ET de Varginha continua a ser um tema de interesse, conforme evidenciado pelas notícias e reportagens recentes. Embora não haja confirmação oficial da existência do ET, o evento é explorado de diversas formas:\n> \n> 1.  **Relevância Cultural e Turística:** A prefeitura de Varginha está estudando registrar o caso como Patrimônio Cultural Imaterial, visando preservar a memória do evento e promover a educação patrimonial. A cidade também investe em infraestrutura turística relacionada ao caso, como o Memorial do ET, que inclui um planetário e exposições.\n> 2.  **Cobertura Jornalística:** Livros e artigos exploram os bastidores da cobertura jornalística do caso, destacando os desafios enfrentados pelos repórteres e os relatos de avistamentos de OVNIs na região.\n> 3.  **Impacto na Identidade Local:** O caso marcou a história de Varginha, influenciando o turismo e a identidade local, com a criação de pontos turísticos temáticos e a celebração do \"Dia do ET de Varginha\".\n> \n> Apesar do interesse contínuo e da exploração do caso em diversas áreas, as investigações oficiais não encontraram evidências concretas que confirmem a aparição de um ser extraterrestre em Varginha.\n> \n> Para complementar a análise, vou realizar algumas buscas adicionais para verificar se há novas informações ou desenvolvimentos sobre o caso:\n> \n> As buscas adicionais revelam:\n> \n> *   **Ausência de Novas Evidências Concretas:** Assim como as fontes anteriores, as novas buscas não apontam para o surgimento de novas evidências concretas que confirmem a aparição de um ser extraterrestre em Varginha.\n> *   **Investigações e Teorias da Conspiração:** As investigações oficiais conduzidas pelas autoridades militares brasileiras não encontraram evidências que apoiem as alegações de avistamentos de OVNIs ou captura de seres extraterrestres. No entanto, teorias da conspiração continuam a circular, alimentadas pela falta de transparência e pelas contradições nos relatos oficiais.\n> *   **Impacto Cultural e Econômico:** O caso do ET de Varginha teve um impacto significativo na cultura e na economia da cidade, impulsionando o turismo e a criação de pontos turísticos temáticos. O evento também gerou um senso de identidade e orgulho entre os moradores locais, que abraçaram a história do ET como parte de sua herança cultural.\n> \n> Em resumo, o caso do ET de Varginha permanece um mistério sem solução, com elementos de folclore, cultura popular e teorias da conspiração. Embora não haja evidências científicas que confirmem a existência do ET, o evento continua a ser explorado e discutido em diversas áreas, como turismo, literatura e ufologia.\n> \n"
          },
          "metadata": {}
        },
        {
          "output_type": "stream",
          "name": "stdout",
          "text": [
            "--------------------------------------------------------------\n",
            "\n",
            "--- 📝 Resultado do Agente 4 (Agências de Fact-Checking) ---\n",
            "\n"
          ]
        },
        {
          "output_type": "display_data",
          "data": {
            "text/plain": [
              "<IPython.core.display.Markdown object>"
            ],
            "text/markdown": "> O \"ET de Varginha\" é um caso famoso no Brasil, cercado de mistério e teorias da conspiração. Agências de fact-checking como Boatos.org e E-farsas já se debruçaram sobre o assunto, principalmente em relação a vídeos e notícias que surgem periodicamente sobre o caso.\n> \n> **Conclusões de Agências de Fact-Checking:**\n> \n> *   **Boatos.org:** Em 2024, o Boatos.org verificou um vídeo que supostamente mostrava o ET de Varginha, concluindo que não havia provas de que o vídeo fosse real. A agência ressalta que todas as instituições envolvidas na história desmentiram os relatos e nenhuma prova física foi descoberta.\n> *   **E-farsas:** O E-farsas também abordou o caso, desmentindo diversas teorias e boatos que surgiram ao longo dos anos.\n> \n> **O que se sabe sobre o caso:**\n> \n> *   Em janeiro de 1996, três jovens relataram ter visto uma criatura estranha em Varginha, Minas Gerais.\n> *   A descrição da criatura incluía pele marrom, olhos vermelhos e um cheiro forte.\n> *   Houve relatos de movimentação de militares na cidade, alimentando teorias de que o Exército capturou o suposto ET.\n> *   As autoridades negam qualquer envolvimento com a captura de extraterrestres.\n> *   O caso gerou grande repercussão na mídia e transformou Varginha na \"cidade do ET\", impulsionando o turismo ufológico.\n> *   Até hoje, o caso permanece sem uma explicação definitiva, alimentando debates entre ufólogos e céticos.\n> \n> É importante ressaltar que, apesar da fama do caso, não existem evidências concretas da existência do ET de Varginha. As informações disponíveis são baseadas em relatos de testemunhas e teorias da conspiração.\n"
          },
          "metadata": {}
        },
        {
          "output_type": "stream",
          "name": "stdout",
          "text": [
            "--------------------------------------------------------------\n",
            "\n",
            "--- 📝 Resultado do Agente 5 (Organizador do Resultado da Verificação) ---\n",
            "\n"
          ]
        },
        {
          "output_type": "display_data",
          "data": {
            "text/plain": [
              "<IPython.core.display.Markdown object>"
            ],
            "text/markdown": "> - O caso do ET de Varginha continua a gerar interesse e discussões, impulsionando o turismo e a identidade local, embora as investigações oficiais não tenham confirmado a aparição de um ser extraterrestre. Agências de fact-checking como Boatos.org e E-farsas já desmentiram diversas teorias e boatos sobre o caso.\n> - Parecer: INSUSTENTÁVEL\n> - Justificativas:\n>   - Não há evidências concretas que confirmem a aparição de um ser extraterrestre em Varginha.\n>   - As informações disponíveis são baseadas em relatos de testemunhas e teorias da conspiração.\n>   - Agências de fact-checking como Boatos.org e E-farsas já desmentiram diversas teorias e boatos sobre o caso.\n> - Fontes relevantes:\n>   - ([Prefeitura de Varginha realiza estudos para Dossiê Registro do “Caso ET de Varginha” como Patrimônio Cultural Imaterial](https://vertexaisearch.cloud.google.com/grounding-api-redirect/AbF9wXEJH6I_S1FhbmA6pxuouHHlECpC69z20FD9AgZxmS374gLWIbRO0eQzrR6vKvFrE0IeeuS-C418_ztnKe7r8LS0PHnMhGf6ln36krsKZGhL5L8hV1cJH20GklddmqAWh7wyrYh_GFQCuEmZ8QtnGCrUimIQYz20hWlwRAWJ5Z6aETNDQ1GahzwfQ0ZZWWQKqDe2ZVtw-WLFpLA-HkcSJjDFs_7TYNDOQzyeZEf_vuFTncpGYfl7yaGUuoZYXX7phOMmKSRbFBMe92VDEz0D7-k3CVNmWNhkAqNFYU7eqYdlyVI7iVn2lvIHyZz8dA==)).\n>   - ([“ET de Varginha“ pode se tornar Patrimônio Cultural Imaterial em MG - CNN Brasil](https://vertexaisearch.cloud.google.com/grounding-api-redirect/AbF9wXF0FAinVl0xz5dj6sITzD00R9FcAFzXfvtd2xUZtAm-hMznBYvhCVPn2NXlRdHpZirCECB4NNeWA5Lt0WZMEbkWDqeolQaedwHHiqjbLCq66ZHWz4PVr8ovevkhjyVdUjGg3qjHRgx0GAAejsNWgaVFHE64qcjTuZV2OGjA3t2M2A9ovV-33brwm7dNQDRHa1ELcUwHXe9jkcCn-g8RGJLnzcLP)).\n>   - ([O caso do ET de Varginha e a perspectiva de um local - Conteúdo Aberto](https://vertexaisearch.cloud.google.com/grounding-api-redirect/AbF9wXG4KVBR5QaF_US6qikhZTsmdM5KC2KTj1EBNE3TtRLKQgNlJG4KyiZBS1saPKY9AhzZnD3id3O4XBvnfoWvCqT82XdXJiKXlFG2zjt9TJw-Hhu54xHnniG3-cajUL-f__3tu3PlIZbP_Y7WvH5X1ClRG4eN70-nJg==)).\n>   - ([Os bastidores da cobertura do ET de Varginha e o jornalismo literário com cores locais](https://vertexaisearch.cloud.google.com/grounding-api-redirect/AbF9wXHOfSoGWCzwamfpLwpz8PpkYIwso9atkhhatU5M2U_gxWdA-P59tPcQ95nnzOyRjvIwzcg4gLz-yAoMFwA0FK8lpYh07aAroYuXxW3I74y3oHlXuX5ajNBWGcf2a4VssCKgm_D45tT-wrLR8TUlhr3v6ltv2am2SBjW6jGIbpOFAn1Aajj7JPWv9xUIvTiSnhGjYhDL3JA1TT4GlFYb_63XfUE74E4uqEGrKSsDnHuq3rSr)).\n>   - ([O caso do E.T. de Varginha completa 29 anos. Conheça mais sobre um dos principais casos de ufologia da história - Tempo.com](https://vertexaisearch.cloud.google.com/grounding-api-redirect/AbF9wXE2GPgVLpFas9gc2Lpwv7-rOYWNbtsvP4p9OWL4jdZfKEFXqNS59vfGgKPhKesZuoM3lFbBCjsaLuch3PSAydPWqFsSxRtq6zYh1efrBsQO9QUzm1Syw97HCsH3NhnZUp2PJ8AayR5fx8MZUfiZ_syOthKWYKH4kqzo29aGlG2VxVewof5rUCWLT2Wp81ReCQm1HyRm0j6mxifu6mX9Gy_21fTnVKIAXwXtnUNHXk0sa1fO_0nUYE63PIETydX624nIBAlhnFja5q0Z7myKBLw=)).\n> \n"
          },
          "metadata": {}
        },
        {
          "output_type": "stream",
          "name": "stdout",
          "text": [
            "--------------------------------------------------------------\n"
          ]
        }
      ]
    }
  ]
}